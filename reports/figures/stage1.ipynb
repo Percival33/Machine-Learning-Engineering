{
 "cells": [
  {
   "cell_type": "markdown",
   "source": [
    "IUM - zespół 5 wariant 02\n",
    "Marcin Jarczewski\n",
    "Miłosz Mizak\n",
    "\n",
    "## Zadanie\n",
    "\"Fajnie byłoby rozszerzyć nasz serwis o generowanie popularnych playlist – zestawów pasujących do siebie utworów, których słuchaniem zainteresowane będzie wiele osób\"\n",
    "\n",
    "### Definicja problemu biznesowego\n",
    "Zadaniem jest generowanie składanek, które będą tego samego gatunku muzycznego, które będą słuchane przez wielu użytkowników. Do tej pory, składanki były generowane dynamicznie na podstawie dziesięciu najbardziej popularnych piosenek w serwisie w ciągu ostatnich 7 dni.\n",
    "\n",
    "tldr:\n",
    "● jaka jest obecna sytuacja,\n",
    "● co ma zostać wprowadzone/zmienione,\n",
    "● jakie właściwości/cechy powinno mieć docelowe rozwiązanie,\n",
    "● jakie są założenia, oczekiwania, ograniczenia, zasoby\n",
    "\n",
    "### Założenia\n",
    "??? TODO\n",
    "\n",
    "\n",
    "### Zadania modelowania\n",
    "Zadaniem modelowania będzie grupowanie (klasteryzacja) najpopularniejszych piosenek wg. gatunków muzycznych w składanki.\n",
    "\n",
    "\n",
    "### Kryterium sukcesu\n",
    "Będziemy porównywać składanki generowane przez dwa modele.\n",
    "1. **Model podstawowy** - bierze najpopularniejsze piosenki danego gatunku i układa z nich składankę. Wybór piosenek opieramy na wskaźniku `popularity`\n",
    "2. **Model zaawansowany** - analizuje najczęściej słuchane piosenki danego gatunku, przez użytkowników naszego systemu i na tej podstawie układa składanki.\n",
    "\n",
    "## Analiza danych\n",
    "???\n",
    "\n",
    "wszystkich założeń, zaproponowania kryteriów sukcesu)\n",
    "ii) analizę danych z perspektywy realizacji tych zadań (trzeba ocenić, czy dostarczon\n",
    "dane są wystarczające – może czegoś brakuje, może coś trzeba poprawić, domaga\n",
    "się innych danych, …),"
   ],
   "metadata": {
    "collapsed": false
   }
  },
  {
   "cell_type": "code",
   "execution_count": null,
   "outputs": [],
   "source": [],
   "metadata": {
    "collapsed": false
   }
  }
 ],
 "metadata": {
  "kernelspec": {
   "display_name": "Python 3",
   "language": "python",
   "name": "python3"
  },
  "language_info": {
   "codemirror_mode": {
    "name": "ipython",
    "version": 2
   },
   "file_extension": ".py",
   "mimetype": "text/x-python",
   "name": "python",
   "nbconvert_exporter": "python",
   "pygments_lexer": "ipython2",
   "version": "2.7.6"
  }
 },
 "nbformat": 4,
 "nbformat_minor": 0
}
