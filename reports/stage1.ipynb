{
 "cells": [
  {
   "cell_type": "markdown",
   "metadata": {
    "collapsed": false,
    "jupyter": {
     "outputs_hidden": false
    }
   },
   "source": [
    "# IUM-zespół 5 wariant 02\n",
    "Marcin Jarczewski\n",
    "Miłosz Mizak\n",
    "\n",
    "## Zadanie\n",
    "\"Fajnie byłoby rozszerzyć nasz serwis o generowanie popularnych playlist – zestawów pasujących do siebie utworów, których słuchaniem zainteresowane będzie wiele osób\"\n",
    "\n",
    "### Definicja problemu biznesowego\n",
    "Po dodatkowych ustaleniach z klientem zdecydowaliśmy, że będziemy generować kilka składek pogrupowanych względem gatunku muzycznego. Nasze zadanie ma na celu wygenerowanie składanek cieszących się zainteresowaniem wielu użytkowników. Do tej pory, składanki były generowane dynamicznie na podstawie dziesięciu najbardziej popularnych piosenek w serwisie w ciągu ostatnich 7 dni. Nasze rozwiązanie będzie opierało się na wybranych najpopularniejszych gatunkach muzycznych.\n",
    "\n",
    "### Założenia\n",
    "1. Skupimy się wyłącznie na najpopularniejszych gatunkach muzycznych, co będzie dodatkowo opisane w ramach analizy danych.\n",
    "2. Do rozwiązania naszego problemu nie będzie nam potrzebna informacja dotycząca fizycznego przechowywania piosenek na dyskach.\n",
    "\n",
    "### Zadania modelowania\n",
    "Zadaniem modelowania będzie grupowanie (klasteryzacja) najpopularniejszych piosenek w składanki. Będzie się to odbywać dwuetapowo. Na początku, wybierzemy kilka najpopularniejszych piosenek w serwisie, a następnie dokonamy grupowania podobnych piosenek. Będziemy się skupiali na maksymalnie odległych grupach, aby utworzyć oddzielne playlisty.\n",
    "Dodatkowo możemy rozważyć zadanie rankingowania w ramach konkretnej grupy, tak żeby zmaksymalizować popularność konkretnej składanki.\n",
    "Odrzucamy generowanie rekomendacji, ponieważ uśrednianie dla całego serwisu nie ma sensu i łamie twierdzenie \"no free lunch\", które mówi o nieistnieniu optymalnego rozwiązania dla każdego problemu.\n",
    "\n",
    "### Kryterium sukcesu\n",
    "Będziemy porównywać składanki generowane przez dwa modele.\n",
    "1. **Model podstawowy** — bierze najpopularniejsze piosenki danego gatunku i układa z nich składankę. Wybór piosenek opieramy na wskaźniku `popularity`.\n",
    "2. **Model zaawansowany** — analizuje najczęściej słuchane piosenki danego gatunku, a następnie grupuje je z podobnymi do siebie i na tej podstawie układa składanki.\n",
    "\n",
    "Porównywanie modeli będzie odbywać się w symulowanym środowisku, w którym będziemy dążyć do maksymalizacji czasu wysłuchania wszystkich piosenek z konkretnej składanki. W tym celu posłużymy się agentami, którzy będą symulować użytkowników. Chcemy osiągnąć większą retencję na składankach wygenerowanych przez model zaawansowany w porównaniu do modelu podstawowego. Przez retencję określamy liczbę minut spędzonych na słuchaniu składanki w porównaniu do sumy długości wszystkich piosenek w danej składance."
   ]
  },
  {
   "cell_type": "markdown",
   "metadata": {
    "collapsed": false,
    "jupyter": {
     "outputs_hidden": false
    }
   },
   "source": [
    "## Analiza danych\n",
    "\n",
    "Zbiór danych zawiera następujące pliki:\n",
    "- `artists.jsonl`: Opisuje pojedynczego artystę przy użyciu następujących atrybutów: id, nazwa oraz gatunki muzyczne.\n",
    "- `tracks.jsonl`: Opisuje każdą piosenkę. Pojedyncza piosenka ma atrybuty opisujące jej: id, nazwę, wskaźnik popularności, czas trwania, id wykonawcy, datę wydania oraz różne wskaźniki pozwalające na porównywanie utworów.\n",
    "- `sessions.jsonl`: Opisuje sesję użytkownika. Zawiera atrybuty id sesji, znacznik czasowy, id użytkownika, id piosenki, rodzaj wydarzenia.\n",
    "- `users.jsonl`: Opisuje użytkownika. Posiada atrybuty: id, nazwa, adres zamieszkania, ulubione gatunki, wskaźnik czy jest użytkownikiem premium\n",
    "- `track_storage.jsonl`: Opisuje miejsce przechowywania pojedynczego utworu. Atrybutami są: id piosenki, typ pamięci i dzienny koszt\n",
    "\n",
    "Struktura danych i powiązań między sobą można zobaczyć na poniższym diagramie\n",
    "![Obraz](./figures/db-diagram.png)"
   ]
  },
  {
   "cell_type": "code",
   "execution_count": 1,
   "metadata": {
    "ExecuteTime": {
     "end_time": "2023-12-01T21:48:35.798492169Z",
     "start_time": "2023-12-01T21:48:34.489838148Z"
    },
    "collapsed": false,
    "jupyter": {
     "outputs_hidden": false
    }
   },
   "outputs": [],
   "source": [
    "import numpy as np\n",
    "import pandas as pd\n",
    "import scipy.stats as stats\n",
    "import matplotlib.pyplot as plt\n",
    "import seaborn as sns\n",
    "\n",
    "tracks_df = pd.read_json(\"./../data/raw/05_02_v2/tracks.jsonl\", lines=True)\n",
    "users_df = pd.read_json(\"./../data/raw/05_02_v2/users.jsonl\", lines=True)\n",
    "session_df = pd.read_json(\"./../data/raw/05_02_v2/sessions.jsonl\", lines=True)\n",
    "artists_df = pd.read_json(\"./../data/raw/05_02_v2/artists.jsonl\", lines=True)\n",
    "tracks_storage_df = pd.read_json(\n",
    "    \"./../data/raw/05_02_v1/track_storage.jsonl\", lines=True\n",
    ")"
   ]
  },
  {
   "cell_type": "markdown",
   "metadata": {
    "collapsed": false,
    "jupyter": {
     "outputs_hidden": false
    }
   },
   "source": [
    "### `artists.jsonl`\n",
    "Jak widać dane nie zawierają brakujących wartości."
   ]
  },
  {
   "cell_type": "code",
   "execution_count": null,
   "metadata": {
    "collapsed": false,
    "jupyter": {
     "outputs_hidden": false
    }
   },
   "outputs": [],
   "source": [
    "artists_df.isnull().sum()"
   ]
  },
  {
   "cell_type": "markdown",
   "metadata": {
    "collapsed": false,
    "jupyter": {
     "outputs_hidden": false
    }
   },
   "source": [
    "### `tracks.jsonl`"
   ]
  },
  {
   "cell_type": "code",
   "execution_count": null,
   "metadata": {
    "collapsed": false,
    "jupyter": {
     "outputs_hidden": false
    }
   },
   "outputs": [],
   "source": [
    "tracks_df.isnull().sum()"
   ]
  },
  {
   "cell_type": "markdown",
   "metadata": {
    "collapsed": false,
    "jupyter": {
     "outputs_hidden": false
    }
   },
   "source": [
    "Jak widać tutaj również nie ma brakujących wartości. Najbardziej istotne dla nas są dane o gatunkach muzycznych konkretnych piosenek, połączone z danymi z pliku `artists.jsonl`. Jak widać 75% gatunków posiada średnio 77,5 piosenki. Zatem skupimy się tylko na gatunkach, które posiadają co najmniej 500 piosenek. Takich gatunków jest 37.\n"
   ]
  },
  {
   "cell_type": "code",
   "execution_count": null,
   "metadata": {
    "collapsed": false,
    "jupyter": {
     "outputs_hidden": false
    }
   },
   "outputs": [],
   "source": [
    "tracks_genre_df = tracks_df.merge(\n",
    "    artists_df[[\"id\", \"genres\"]], left_on=\"id_artist\", right_on=\"id\", how=\"inner\"\n",
    ")\n",
    "exploded_genres = tracks_genre_df[[\"id_x\", \"genres\"]].explode(\"genres\").reset_index()\n",
    "exploded_genres = exploded_genres.rename(\n",
    "    columns={\"id_x\": \"track_id\", \"genres\": \"genre\"}\n",
    ")\n",
    "total_genre_counts = exploded_genres[\"genre\"].value_counts().reset_index(name=\"count\")\n",
    "total_genre_counts.columns = [\"genre\", \"track count\"]\n",
    "exploded_genres[\"genre\"].value_counts().describe(), total_genre_counts[\n",
    "    total_genre_counts[\"track count\"] >= 500\n",
    "].shape"
   ]
  },
  {
   "cell_type": "code",
   "execution_count": null,
   "metadata": {
    "collapsed": false,
    "jupyter": {
     "outputs_hidden": false
    }
   },
   "outputs": [],
   "source": [
    "total_genre_counts[\"track count\"].hist(bins=100)"
   ]
  },
  {
   "cell_type": "code",
   "execution_count": null,
   "metadata": {
    "collapsed": false,
    "jupyter": {
     "outputs_hidden": false
    }
   },
   "outputs": [],
   "source": [
    "tracks_values = tracks_df.drop(columns=[\"id\", \"name\", \"id_artist\", \"release_date\"])\n",
    "corr = tracks_values.corr()\n",
    "\n",
    "f, ax = plt.subplots(figsize=(11, 9))\n",
    "\n",
    "mask = np.triu(np.ones_like(corr, dtype=bool))\n",
    "cmap = sns.diverging_palette(230, 20, as_cmap=True)\n",
    "\n",
    "sns.heatmap(\n",
    "    corr,\n",
    "    cmap=cmap,\n",
    "    vmax=0.3,\n",
    "    center=0,\n",
    "    annot=True,\n",
    "    mask=mask,\n",
    "    square=True,\n",
    "    linewidths=0.5,\n",
    "    cbar_kws={\"shrink\": 0.5},\n",
    ")"
   ]
  },
  {
   "cell_type": "markdown",
   "metadata": {
    "collapsed": false,
    "jupyter": {
     "outputs_hidden": false
    }
   },
   "source": [
    "Wykres przedstawia korelację poszczególnych atrybutów piosenek."
   ]
  },
  {
   "cell_type": "markdown",
   "metadata": {
    "collapsed": false,
    "jupyter": {
     "outputs_hidden": false
    }
   },
   "source": [
    "### `sessions.jsonl`\n",
    "Jak widać nasze dane zawierają 102 tysiące wierszy z brakującymi `track_id`. Widać, że brak `track_id` jest wyłącznie podczas reklam co nie wpływa na nasz problem."
   ]
  },
  {
   "cell_type": "code",
   "execution_count": null,
   "metadata": {
    "collapsed": false,
    "jupyter": {
     "outputs_hidden": false
    }
   },
   "outputs": [],
   "source": [
    "session_df.isnull().sum()"
   ]
  },
  {
   "cell_type": "code",
   "execution_count": null,
   "metadata": {
    "collapsed": false,
    "jupyter": {
     "outputs_hidden": false
    }
   },
   "outputs": [],
   "source": [
    "session_df[session_df[\"track_id\"].isna()][\"event_type\"].unique()"
   ]
  },
  {
   "cell_type": "code",
   "execution_count": null,
   "metadata": {
    "collapsed": false,
    "jupyter": {
     "outputs_hidden": false
    }
   },
   "outputs": [],
   "source": [
    "session_df[\"timestamp\"] = pd.to_datetime(session_df[\"timestamp\"])\n",
    "\n",
    "start_date = session_df[\"timestamp\"].min()\n",
    "end_date = session_df[\"timestamp\"].max()\n",
    "print(f\"Time range of the dataset: {start_date} to {end_date}\")\n",
    "\n",
    "session_df[\"year-month\"] = session_df[\"timestamp\"].dt.strftime(\"%Y-%m\")\n",
    "session_df[\"year-month\"].value_counts().sort_index().plot(kind=\"bar\", figsize=(10, 6))\n",
    "\n",
    "plt.title(\"Distribution of Sessions by Month\")\n",
    "plt.xlabel(\"Month\")\n",
    "plt.ylabel(\"Number of Sessions\")\n",
    "plt.xticks(rotation=45)\n",
    "plt.show()"
   ]
  },
  {
   "cell_type": "markdown",
   "metadata": {
    "collapsed": false,
    "jupyter": {
     "outputs_hidden": false
    }
   },
   "source": [
    "Nasze dane są zbilansowane z wyłączeniem listopada 2022, gdzie posiadamy dane wyłącznie z 30 listopada."
   ]
  },
  {
   "cell_type": "code",
   "execution_count": null,
   "metadata": {
    "collapsed": false,
    "jupyter": {
     "outputs_hidden": false
    }
   },
   "outputs": [],
   "source": [
    "session_counts = session_df.groupby(\"user_id\").session_id.nunique()\n",
    "\n",
    "mean = session_counts.mean()\n",
    "std = session_counts.std()\n",
    "\n",
    "plt.hist(\n",
    "    session_counts,\n",
    "    bins=range(session_counts.min(), session_counts.max() + 1),\n",
    "    edgecolor=\"white\",\n",
    "    density=True,\n",
    ")\n",
    "plt.title(\"Distribution of Session Counts per User\")\n",
    "plt.xlabel(\"Number of Sessions\")\n",
    "plt.ylabel(\"Density of Users\")\n",
    "\n",
    "x = np.linspace(session_counts.min(), session_counts.max(), 100)\n",
    "y = stats.norm.pdf(x, mean, std)\n",
    "\n",
    "plt.plot(x, y, \"r-\", lw=2)\n",
    "plt.show()"
   ]
  },
  {
   "cell_type": "markdown",
   "metadata": {
    "collapsed": false,
    "jupyter": {
     "outputs_hidden": false
    }
   },
   "source": [
    "Histogram przedstawia znormalizowaną liczbę różnych sesji per użytkownik. Widać mało wartości odstających. Rozstrzał między maksymalną i minimalną liczbą sesji jest niski, więc są to dane zbalansowane. Wykres przypomina rozkład normalny, zatem traktujemy tę próbkę danych jako reprezentatywną."
   ]
  },
  {
   "cell_type": "code",
   "execution_count": null,
   "metadata": {
    "collapsed": false,
    "jupyter": {
     "outputs_hidden": false
    }
   },
   "outputs": [],
   "source": [
    "track_counts = session_df.groupby(\"user_id\").size()\n",
    "\n",
    "plt.figure(figsize=(10, 6))\n",
    "plt.hist(track_counts, bins=20, edgecolor=\"black\")\n",
    "plt.title(\"Distribution of played tracks per user\")\n",
    "plt.xlabel(\"Number of Tracks\")\n",
    "plt.ylabel(\"Number of Users\")\n",
    "plt.show()"
   ]
  },
  {
   "cell_type": "markdown",
   "metadata": {
    "collapsed": false,
    "jupyter": {
     "outputs_hidden": false
    }
   },
   "source": [
    "Wykres również przypomina rozkład normalny, podobnie jak w poprzednim punkcie, zatem te dane również traktujemy jako reprezentatywne."
   ]
  },
  {
   "cell_type": "code",
   "execution_count": null,
   "metadata": {
    "collapsed": false,
    "jupyter": {
     "outputs_hidden": false
    }
   },
   "outputs": [],
   "source": [
    "events_per_session = session_df.groupby(\"session_id\").size().mean()\n",
    "print(f\"Średnia liczba wydarzeń w 1 sesji: {events_per_session:.2f}\")"
   ]
  },
  {
   "cell_type": "markdown",
   "metadata": {
    "collapsed": false,
    "jupyter": {
     "outputs_hidden": false
    }
   },
   "source": [
    "### `users.jsonl`\n",
    "Dane są kompletne i zawierają 500 użytkowników co potencjalnie może być później problemem, ze względu na ich niewielką liczbę."
   ]
  },
  {
   "cell_type": "code",
   "execution_count": null,
   "metadata": {
    "collapsed": false,
    "jupyter": {
     "outputs_hidden": false
    }
   },
   "outputs": [],
   "source": [
    "users_df.isnull().sum()"
   ]
  },
  {
   "cell_type": "code",
   "execution_count": null,
   "metadata": {
    "collapsed": false,
    "jupyter": {
     "outputs_hidden": false
    }
   },
   "outputs": [],
   "source": [
    "favourite_genres_series = (\n",
    "    users_df.explode(\"favourite_genres\")\n",
    "    .groupby(\"favourite_genres\")\n",
    "    .size()\n",
    "    .sort_values(ascending=False)\n",
    ")\n",
    "favourite_genres_df = favourite_genres_series.reset_index(name=\"count\")\n",
    "favourite_genres_df.columns = [\"favourite_genres\", \"count\"]\n",
    "\n",
    "favourite_genres_df[\"count\"].hist(bins=10, edgecolor=\"black\")\n",
    "plt.title(\"Distribution of Favourite Genres\")\n",
    "plt.xlabel(\"Count of Favourite Genre\")\n",
    "plt.ylabel(\"Number of Genres\")\n",
    "plt.show()"
   ]
  },
  {
   "cell_type": "markdown",
   "metadata": {
    "collapsed": false,
    "jupyter": {
     "outputs_hidden": false
    }
   },
   "source": [
    "Wykres przedstawia liczbę ulubionych gatunków per użytkownik."
   ]
  },
  {
   "cell_type": "code",
   "execution_count": null,
   "metadata": {
    "collapsed": false,
    "jupyter": {
     "outputs_hidden": false
    }
   },
   "outputs": [],
   "source": [
    "print(users_df.groupby(\"premium_user\").size())"
   ]
  },
  {
   "cell_type": "markdown",
   "metadata": {
    "collapsed": false,
    "jupyter": {
     "outputs_hidden": false
    }
   },
   "source": [
    "Większość użytkowników nie posiada konta premium, co sprawia, że może mieć to wpływ na pomijanie piosenek i irytację w trakcie słuchania."
   ]
  },
  {
   "cell_type": "markdown",
   "metadata": {
    "collapsed": false,
    "jupyter": {
     "outputs_hidden": false
    }
   },
   "source": [
    "### `track_storage.jsonl`"
   ]
  },
  {
   "cell_type": "code",
   "execution_count": null,
   "metadata": {
    "collapsed": false,
    "jupyter": {
     "outputs_hidden": false
    }
   },
   "outputs": [],
   "source": [
    "tracks_storage_df.isnull().sum()"
   ]
  },
  {
   "cell_type": "markdown",
   "metadata": {
    "collapsed": false,
    "jupyter": {
     "outputs_hidden": false
    }
   },
   "source": [
    "Nie ma tutaj, żadnych brakujących wartości. Na podstawy naszego zadania te dane nie będą nam przydatne."
   ]
  },
  {
   "cell_type": "markdown",
   "metadata": {
    "collapsed": false,
    "jupyter": {
     "outputs_hidden": false
    }
   },
   "source": [
    "### `Statystyki par track-user`"
   ]
  },
  {
   "cell_type": "code",
   "execution_count": null,
   "metadata": {
    "ExecuteTime": {
     "end_time": "2023-12-01T22:09:09.871551996Z",
     "start_time": "2023-12-01T22:09:01.772804724Z"
    },
    "collapsed": false,
    "jupyter": {
     "outputs_hidden": false
    }
   },
   "outputs": [],
   "source": [
    "def agg_events(x):\n",
    "    return tuple(x)\n",
    "\n",
    "\n",
    "tracks_tmp = tracks_df[[\"id\", \"duration_ms\"]]\n",
    "session_tmp = session_df.sort_values(\n",
    "    by=[\"session_id\", \"timestamp\"], ascending=[True, True]\n",
    ")\n",
    "\n",
    "session_tmp[\"time_played\"] = (\n",
    "    pd.to_datetime(session_tmp[\"timestamp\"]).diff().dt.total_seconds() * 1000\n",
    ")\n",
    "session_tmp[\"time_played\"] = session_tmp[\"time_played\"].shift(-1)\n",
    "\n",
    "track_minutes_played = (\n",
    "    session_tmp.groupby([\"track_id\", \"user_id\"])[\"time_played\"].agg(\"sum\").reset_index()\n",
    ")\n",
    "grouped_events = (\n",
    "    session_tmp.groupby([\"track_id\", \"user_id\"])[\"event_type\"]\n",
    "    .agg([agg_events])\n",
    "    .reset_index()\n",
    ")\n",
    "\n",
    "track_user_stats = pd.merge(\n",
    "    track_minutes_played, tracks_tmp, how=\"left\", left_on=\"track_id\", right_on=\"id\"\n",
    ")\n",
    "track_user_stats = pd.merge(\n",
    "    track_user_stats, grouped_events, how=\"left\", on=[\"track_id\", \"user_id\"]\n",
    ")\n",
    "\n",
    "track_user_stats[\"percentage_played\"] = (\n",
    "    track_user_stats[\"time_played\"] / track_user_stats[\"duration_ms\"] * 100\n",
    ")\n",
    "track_user_stats[\"percentage_played\"] = track_user_stats.apply(\n",
    "    lambda row: 100.0 if row.percentage_played > 100 else row.percentage_played, axis=1\n",
    ")\n",
    "track_user_stats[\"was_liked\"] = track_user_stats.apply(\n",
    "    lambda row: \"like\" in row.agg_events, axis=1\n",
    ")\n",
    "track_user_stats[\"was_skipped\"] = track_user_stats.apply(\n",
    "    lambda row: \"skip\" in row.agg_events, axis=1\n",
    ")\n",
    "\n",
    "track_user_stats = track_user_stats.drop(columns=[\"id\", \"agg_events\"])\n",
    "track_user_stats = track_user_stats.drop(\n",
    "    track_user_stats[\n",
    "        abs(track_user_stats.time_played) / 5 > track_user_stats.duration_ms\n",
    "    ].index\n",
    ")\n",
    "track_user_stats = track_user_stats.drop(\n",
    "    track_user_stats[track_user_stats.time_played == 0.0].index\n",
    ")"
   ]
  },
  {
   "cell_type": "code",
   "execution_count": null,
   "metadata": {
    "ExecuteTime": {
     "end_time": "2023-12-01T22:08:45.400133899Z",
     "start_time": "2023-12-01T22:08:45.307057545Z"
    },
    "collapsed": false,
    "jupyter": {
     "outputs_hidden": false
    }
   },
   "outputs": [],
   "source": [
    "liked_tracks = track_user_stats\n",
    "liked_tracks[\"times_liked\"] = 0\n",
    "\n",
    "liked_tracks = liked_tracks[liked_tracks[\"was_liked\"] == False]\n",
    "liked_tracks = (\n",
    "    liked_tracks.groupby([\"track_id\"])[\"times_liked\"].agg(\"count\").reset_index()\n",
    ")\n",
    "\n",
    "liked_tracks[\"times_liked\"].hist(bins=10, edgecolor=\"black\")\n",
    "plt.title(\"Distribution of liked songs\")\n",
    "plt.xlabel(\"Count of liked songs\")\n",
    "plt.ylabel(\"Number of liked songs\")\n",
    "plt.show()"
   ]
  },
  {
   "cell_type": "code",
   "execution_count": null,
   "metadata": {
    "ExecuteTime": {
     "end_time": "2023-12-01T22:08:32.943608013Z",
     "start_time": "2023-12-01T22:08:32.801433465Z"
    },
    "collapsed": false,
    "jupyter": {
     "outputs_hidden": false
    }
   },
   "outputs": [],
   "source": [
    "skipped_tracks = track_user_stats\n",
    "skipped_tracks[\"times_skipped\"] = 0\n",
    "\n",
    "skipped_tracks = skipped_tracks[skipped_tracks[\"was_skipped\"] == True]\n",
    "skipped_tracks = (\n",
    "    skipped_tracks.groupby([\"track_id\"])[\"times_skipped\"].agg(\"count\").reset_index()\n",
    ")\n",
    "\n",
    "skipped_tracks[\"times_skipped\"].hist(bins=10, edgecolor=\"black\")\n",
    "plt.title(\"Distribution of skipped songs\")\n",
    "plt.xlabel(\"Count of skipped songs\")\n",
    "plt.ylabel(\"Number of skipped songs\")\n",
    "plt.show()"
   ]
  },
  {
   "cell_type": "markdown",
   "metadata": {
    "collapsed": false,
    "jupyter": {
     "outputs_hidden": false
    }
   },
   "source": [
    "Podczas analizy danych sesji użytkowników zauważyliśmy, że występują w nich błędy, np. ujemne wartości w kolumnie 'percentage_played'. Na tym etapie nie jesteśmy jeszcze w stanie stwierdzić, czy problemem jest niepoprawna obróbka danych czy jest to problem z samymi danymi."
   ]
  }
 ],
 "metadata": {
  "kernelspec": {
   "display_name": "Python 3 (ipykernel)",
   "language": "python",
   "name": "python3"
  },
  "language_info": {
   "codemirror_mode": {
    "name": "ipython",
    "version": 3
   },
   "file_extension": ".py",
   "mimetype": "text/x-python",
   "name": "python",
   "nbconvert_exporter": "python",
   "pygments_lexer": "ipython3",
   "version": "3.10.1"
  }
 },
 "nbformat": 4,
 "nbformat_minor": 4
}
