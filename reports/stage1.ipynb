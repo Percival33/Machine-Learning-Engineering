{
 "cells": [
  {
   "cell_type": "markdown",
   "source": [
    "IUM-zespół 5 wariant 02\n",
    "Marcin Jarczewski\n",
    "Miłosz Mizak\n",
    "\n",
    "## Zadanie\n",
    "\"Fajnie byłoby rozszerzyć nasz serwis o generowanie popularnych playlist – zestawów pasujących do siebie utworów, których słuchaniem zainteresowane będzie wiele osób\"\n",
    "\n",
    "### Definicja problemu biznesowego\n",
    "Po dodatkowych ustaleniach z klientem zdecydowaliśmy, że będziemy generować kilka składek pogrupowanych względem gatunku muzycznego. Nasze zadanie ma na celu wygenerowanie składanek cieszących się zainteresowaniem wielu użytkowników. Do tej pory, składanki były generowane dynamicznie na podstawie dziesięciu najbardziej popularnych piosenek w serwisie w ciągu ostatnich 7 dni. Nasze rozwiązanie będzie opierało się na wybranych najpopularniejszych gatunkach muzycznych.\n",
    "\n",
    "### Założenia\n",
    "1. Skupimy się wyłącznie na najpopularniejszych gatunkach muzycznych, co będzie dodatkowo opisane w ramach analizy danych.\n",
    "2. Do rozwiązania naszego problemu nie będzie nam potrzebna informacja dotycząca fizycznego przechowywania piosenek na dyskach.\n",
    "\n",
    "### Zadania modelowania\n",
    "Zadaniem modelowania będzie grupowanie (klasteryzacja) najpopularniejszych piosenek w składanki. Będzie się to odbywać dwuetapowo. Na początku, wybierzemy kilka najpopularniejszych piosenek w serwisie, a następnie dokonamy grupowania podobnych piosenek. Będziemy się skupiali na maksymalnie odległych grupach, aby utworzyć oddzielne playlisty.\n",
    "Dodatkowo możemy rozważyć zadanie rankingowania w ramach konkretnej grupy, tak żeby zmaksymalizować popularność konkretnej składanki.\n",
    "Odrzucamy generowanie rekomendacji, ponieważ uśrednianie dla całego serwisu nie ma sensu i łamie twierdzenie no free lunch, które mówi o nieistnieniu optymalnego rozwiązania dla każdego problemu.\n",
    "\n",
    "### Kryterium sukcesu\n",
    "Będziemy porównywać składanki generowane przez dwa modele.\n",
    "1. **Model podstawowy** — bierze najpopularniejsze piosenki danego gatunku i układa z nich składankę. Wybór piosenek opieramy na wskaźniku `popularity`.\n",
    "2. **Model zaawansowany** — analizuje najczęściej słuchane piosenki danego gatunku, a następnie grupuje je z podobnymi do siebie i na tej podstawie układa składanki.\n",
    "\n",
    "Porównywanie modeli będzie odbywać się w symulowanym środowisku, w którym będziemy dążyć do maksymalizacji czasu wysłuchania wszystkich piosenek z konkretnej składanki. W tym celu posłużymy się agentami, którzy będą symulować użytkowników. Chcemy osiągnąć większą retencję na składankach wygenerowanych przez model zaawansowany w porównaniu do modelu podstawowego. Przez retencję określamy liczbę minut spędzonych na słuchaniu składanki w porównaniu do sumy długości wszystkich piosenek."
   ],
   "metadata": {
    "collapsed": false
   }
  },
  {
   "cell_type": "markdown",
   "source": [
    "## Analiza danych\n",
    "\n",
    "Zbiór danych zawiera następujące pliki:\n",
    "- `artists.jsonl`: Opisuje pojedynczego artystę przy użyciu następujących atrybutów: id, nazwa oraz gatunki muzyczne.\n",
    "- `sessions.jsonl`: Opisuje sesję użytkownika. Zawiera atrybuty id sesji, znacznik czasowy, id użytkownika, id piosenki, rodzaj wydarzenia.\n",
    "- `track_storage.jsonl`: Opisuje miejsce przechowywania pojedynczego utowru. Atrybutami są: id piosenki, typ pamięci i dzienny koszt\n",
    "- `tracks.jsonl`: Opisuje każdą piosenkę. Pojedyncza piosenka ma atrybuty opisujące jej: id, nazwę, wskaźnik popularności, czas trwania, ???, id wykowancy, datę wydania oraz różne wskaźniki pozwalające na porównywanie utworów.\n",
    "- `users.jsonl`: Opisuje użytkownika. Posiada atrybuty: id, nazwa, adres zamieszkania, ulubione gatunki, wskaźnik czy jest użytkownikiem premium i `id`\n",
    "\n",
    "Struktura danych i powiązań między sobą można zobaczyć na poniższym diagramie\n",
    "![Obraz](./figures/db-diagram.png)"
   ],
   "metadata": {
    "collapsed": false
   }
  },
  {
   "cell_type": "markdown",
   "source": [
    "### `artists.jsonl`\n",
    "\n",
    "id        0\n",
    "name      0\n",
    "genres    0\n",
    "(1667, 3)\n",
    "\n",
    "Jak widać dane nie zawierają brakujących wartości"
   ],
   "metadata": {
    "collapsed": false
   }
  },
  {
   "cell_type": "code",
   "execution_count": null,
   "outputs": [],
   "source": [],
   "metadata": {
    "collapsed": false
   }
  },
  {
   "cell_type": "markdown",
   "source": [
    "### ``\n",
    "ii) analizę danych z perspektywy realizacji tych zadań (trzeba ocenić, czy dostarczon\n",
    "dane są wystarczające – może czegoś brakuje, może coś trzeba poprawić, domaga\n",
    "się innych danych, …),"
   ],
   "metadata": {
    "collapsed": false
   }
  },
  {
   "cell_type": "code",
   "execution_count": null,
   "outputs": [],
   "source": [],
   "metadata": {
    "collapsed": false
   }
  },
  {
   "cell_type": "markdown",
   "source": [
    "wykresy:\n",
    "- artists\n",
    "    - rozne gatunki, liczba utworow\n",
    "- sessions\n",
    "    - liczba roznych sesji\n",
    "    - rozne daty\n",
    "- tracks\n",
    "    - ???\n",
    "- users\n",
    "    - ???"
   ],
   "metadata": {
    "collapsed": false
   }
  }
 ],
 "metadata": {
  "kernelspec": {
   "display_name": "Python 3",
   "language": "python",
   "name": "python3"
  },
  "language_info": {
   "codemirror_mode": {
    "name": "ipython",
    "version": 2
   },
   "file_extension": ".py",
   "mimetype": "text/x-python",
   "name": "python",
   "nbconvert_exporter": "python",
   "pygments_lexer": "ipython2",
   "version": "2.7.6"
  }
 },
 "nbformat": 4,
 "nbformat_minor": 0
}
