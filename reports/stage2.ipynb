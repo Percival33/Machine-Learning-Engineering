{
 "cells": [
  {
   "cell_type": "markdown",
   "source": [
    "# IUM-zespół 5 wariant 02\n",
    "Marcin Jarczewski\n",
    "Miłosz Mizak\n",
    "\n",
    "# Wstęp\n",
    "\n",
    "W ramach drugiego etapu projektu stworzyliśmy:\n",
    "- model bazowy\n",
    "- model zaawansowany (docelowy)\n",
    "- API służące do interkacji z modelami\n",
    "\n",
    "## Klasy\n",
    "\n",
    "Oba modele korzystają z klas reprezentujących piosenkę oraz składankę. Klasa Track jest bardzo prosta i zawiera tylko trzy pola: track_id, popularity i group. Klasa Playlist jest już nieco bardziej skomplikowana. Zawiera ona funkcje, które aktualizują informacje na temat składanki - jej wielkość, statystyki na temat popularności piosenek w składance, a także łączną długość wszystkich piosenek.\n",
    "\n",
    "## Model bazowy\n",
    "\n",
    "Model bazowy działa w bardzo prosty sposób: tworzy składanki z tych gatunków muzycznych, które posiadają więcej niż X piosenek, gdzie X jest parametrem modelu. Domyślnie jest to ustawione na wartość 500 piosenek. Po wygenerowaniu składanek z najpopularniejszymi piosenkami z danych gatunków, model wybiera te składanki, które mają największą średnią popularność. Ilosć tych składanek także jest parametrem modelu.\n",
    "\n",
    "## Model zaawansowany\n",
    "\n",
    "Główną funkcją modelu zaawansowanego jest grupowanie piosenek. Użyliśmy do tego gotowego modelu KMeans, dostępnego w bibliotece scikit-learn. Model działa w następujący sposób:\n",
    "- model przyporządkowuje każdą piosenkę ze zbioru danych do określonej grupy. Testowaliśmy różne ilości grup i przy obecnym rozmiarze zbioru danych 10 grup wydaje się być rozsądnym wyborem. Większa ich ilość generowała patologie - przy 30 grupach piosenki o dokładnie takich samych parametrach miały zupełnie inne grupy\n",
    "- piosenki zostają posortowane ze wględu na grupy, a następnie z danych wybierane są te piosenki, które przekraczają określony próg popularności - jako wstępna wartość jest to 95%. \n",
    "- popularne piosenki znajdują się teraz w odpowiednich grupach, więc inne piosenki powinny być do nich podobne - wobec tego z grup w którch znajdują się te piosenki losujemy daną ilość piosenek\n",
    "- wylosowane piosenki dodajemy do składanek, które potem są wszystkie razem zwracane jako wynik działania modelu\n",
    "\n",
    "\n",
    "Różnice w działaniu modeli widać na pierwszy rzut oka: średnia popularność w modelu zaawansowanym jest niższa (zazwyczaj na poziomie ok. 60%) niż w modelu bazowym. Nie oznacza to jednak, że model zaawansowany nie działa. To że piosenka jest mniej popularna, nie musi oznaczać, że jest gorsza.\n",
    "\n",
    "\n",
    "## Mikroserwis\n",
    "\n",
    "Do uruchamiania modeli zostało oddelegowane API. API posiada jeden znaczący endpoint: /predict/model/{model_type}, gdzie jako model type można użyć zarówno modelu bazowego jak i zaawansowanego. Liczba generowanych składanek zawsze wynosi 5, natomiast istnieje możliwość sprecyzowania ilości piosenek w składance."
   ],
   "metadata": {
    "collapsed": false
   },
   "id": "c34662805cd99b8"
  },
  {
   "cell_type": "markdown",
   "source": [],
   "metadata": {
    "collapsed": false
   },
   "id": "aef4dfae742ea9f4"
  }
 ],
 "metadata": {
  "kernelspec": {
   "display_name": "Python 3",
   "language": "python",
   "name": "python3"
  },
  "language_info": {
   "codemirror_mode": {
    "name": "ipython",
    "version": 2
   },
   "file_extension": ".py",
   "mimetype": "text/x-python",
   "name": "python",
   "nbconvert_exporter": "python",
   "pygments_lexer": "ipython2",
   "version": "2.7.6"
  }
 },
 "nbformat": 4,
 "nbformat_minor": 5
}
