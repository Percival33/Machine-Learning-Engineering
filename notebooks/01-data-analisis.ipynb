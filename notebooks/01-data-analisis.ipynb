{
 "cells": [
  {
   "cell_type": "code",
   "execution_count": 1,
   "metadata": {
    "ExecuteTime": {
     "end_time": "2024-01-21T12:43:19.049028394Z",
     "start_time": "2024-01-21T12:43:19.045659467Z"
    }
   },
   "outputs": [],
   "source": [
    "import pandas as pd"
   ]
  },
  {
   "cell_type": "markdown",
   "source": [],
   "metadata": {
    "collapsed": false
   }
  },
  {
   "cell_type": "code",
   "execution_count": 2,
   "metadata": {
    "ExecuteTime": {
     "end_time": "2024-01-21T12:43:20.226405185Z",
     "start_time": "2024-01-21T12:43:19.048214411Z"
    }
   },
   "outputs": [],
   "source": [
    "artists_df = pd.read_json(\"../data/raw/05_02_v1/artists.jsonl\", lines=True)\n",
    "tracks_df = pd.read_json(\"../data/raw/05_02_v1/tracks.jsonl\", lines=True)\n",
    "users_df = pd.read_json(\"../data/raw/05_02_v1/users.jsonl\", lines=True)\n",
    "sessions_df = pd.read_json(\"../data/raw/05_02_v1/sessions.jsonl\", lines=True)\n",
    "track_storage_df = pd.read_json(\"../data/raw/05_02_v1/track_storage.jsonl\", lines=True)"
   ]
  },
  {
   "cell_type": "code",
   "execution_count": 3,
   "outputs": [
    {
     "name": "stdout",
     "output_type": "stream",
     "text": [
      "id                  1119\n",
      "name                1147\n",
      "popularity          1110\n",
      "duration_ms            0\n",
      "explicit               0\n",
      "id_artist           1146\n",
      "release_date           0\n",
      "danceability           0\n",
      "energy                 0\n",
      "key                    0\n",
      "loudness               0\n",
      "speechiness            0\n",
      "acousticness           0\n",
      "instrumentalness       0\n",
      "liveness               0\n",
      "valence                0\n",
      "tempo                  0\n",
      "dtype: int64 (22412, 17) \n",
      "\n",
      "user_id               0\n",
      "name                  0\n",
      "city                  0\n",
      "street                0\n",
      "favourite_genres     29\n",
      "premium_user         22\n",
      "id                  473\n",
      "dtype: int64 (500, 7) \n",
      "\n",
      "session_id         0\n",
      "timestamp          0\n",
      "user_id        37870\n",
      "track_id      135409\n",
      "event_type     38047\n",
      "dtype: int64 (759425, 5) \n"
     ]
    }
   ],
   "source": [
    "for x in [tracks_df, users_df, sessions_df]:\n",
    "    print(x.isnull().sum(), x.shape, \"\\n\")"
   ],
   "metadata": {
    "collapsed": false,
    "ExecuteTime": {
     "end_time": "2024-01-21T12:43:20.256899678Z",
     "start_time": "2024-01-21T12:43:20.226916391Z"
    }
   }
  },
  {
   "cell_type": "code",
   "execution_count": 4,
   "metadata": {
    "ExecuteTime": {
     "end_time": "2024-01-21T12:43:20.258809735Z",
     "start_time": "2024-01-21T12:43:20.256262652Z"
    }
   },
   "outputs": [
    {
     "name": "stdout",
     "output_type": "stream",
     "text": [
      "id        object\n",
      "name      object\n",
      "genres    object\n",
      "dtype: object (1667, 3)                        id            name  \\\n",
      "0  7jVv8c5Fj3E9VhNjxT4snq       Lil Nas X   \n",
      "1  0xRXCcSX89eobfrshSVdyu          MEDUZA   \n",
      "2  3OKg7YbOIatODzkRIbLJR4       TheFatRat   \n",
      "3  4f7KfxeHq9BiylGmyXepGt  Tanishk Bagchi   \n",
      "4  56mfhUDKa1vec6rSLZV5Eg       Jawsh 685   \n",
      "\n",
      "                                              genres  \n",
      "0  [country rap, lgbtq+ hip hop, pop rap, queer c...  \n",
      "1  [dance pop, edm, pop dance, pop house, tropica...  \n",
      "2                                         [speedrun]  \n",
      "3                [desi pop, filmi, modern bollywood]  \n",
      "4                                           [nz pop]  \n"
     ]
    }
   ],
   "source": [
    "print(artists_df.dtypes, artists_df.shape, artists_df.head())"
   ]
  },
  {
   "cell_type": "code",
   "execution_count": 5,
   "metadata": {
    "ExecuteTime": {
     "end_time": "2024-01-21T12:43:20.313532420Z",
     "start_time": "2024-01-21T12:43:20.259296510Z"
    }
   },
   "outputs": [
    {
     "name": "stdout",
     "output_type": "stream",
     "text": [
      "                       id                                               name  \\\n",
      "0  0RNxWy0PC3AyH4ThH3aGK6                                     Mack the Knife   \n",
      "1  2W889aLIKxULEefrleFBFI                           Someone to Watch Over Me   \n",
      "2  4Pnzw1nLOpDNV6MKI5ueIR     Nancy (With the Laughing Face) - 78rpm Version   \n",
      "3  7GLmfKOe5BfOXk7334DoKt  Saturday Night (Is The Loneliest Night In The ...   \n",
      "4  6kD1SNGPkfX9LwaGd1FG92             Put Your Dreams Away (For Another Day)   \n",
      "\n",
      "   popularity  duration_ms  explicit               id_artist release_date  \\\n",
      "0        55.0       201467         0  19eLuQmk9aCobbVDHc6eek         1929   \n",
      "1        54.0       198000         0                    None         1943   \n",
      "2        55.0       199000         0  1Mxqyy3pSjf8kZZL4QVxS0         1944   \n",
      "3        54.0       163000         0  1Mxqyy3pSjf8kZZL4QVxS0         1944   \n",
      "4        53.0       186173         0  1Mxqyy3pSjf8kZZL4QVxS0         1944   \n",
      "\n",
      "   danceability  energy  key  loudness  speechiness  acousticness  \\\n",
      "0         0.673  0.3770    0   -14.141       0.0697         0.586   \n",
      "1         0.204  0.1510    2   -17.842       0.0418         0.947   \n",
      "2         0.295  0.0826    1   -19.569       0.0367         0.984   \n",
      "3         0.561  0.3350    9   -11.093       0.0499         0.840   \n",
      "4         0.197  0.0546    1   -22.411       0.0346         0.950   \n",
      "\n",
      "   instrumentalness  liveness  valence    tempo  \n",
      "0          0.000000     0.332    0.713   88.973  \n",
      "1          0.000009     0.321    0.134   91.783  \n",
      "2          0.000358     0.156    0.169  128.600  \n",
      "3          0.000002     0.788    0.590  126.974  \n",
      "4          0.276000     0.152    0.100   90.150  \n"
     ]
    }
   ],
   "source": [
    "print(tracks_df.head())"
   ]
  },
  {
   "cell_type": "code",
   "execution_count": 6,
   "metadata": {
    "ExecuteTime": {
     "end_time": "2024-01-21T12:43:20.313951273Z",
     "start_time": "2024-01-21T12:43:20.313431977Z"
    }
   },
   "outputs": [
    {
     "name": "stdout",
     "output_type": "stream",
     "text": [
      "         popularity   duration_ms      explicit  danceability        energy  \\\n",
      "count  21302.000000  2.241200e+04  22412.000000  22412.000000  22412.000000   \n",
      "mean      61.388133  2.301383e+05      0.166607      0.599096      0.648017   \n",
      "std        8.052055  7.209562e+04      0.372633      0.158259      0.209577   \n",
      "min       51.000000  3.062200e+04      0.000000      0.000000      0.000103   \n",
      "25%       55.000000  1.914930e+05      0.000000      0.495000      0.508000   \n",
      "50%       60.000000  2.206670e+05      0.000000      0.608000      0.672000   \n",
      "75%       67.000000  2.562400e+05      0.000000      0.715000      0.816000   \n",
      "max       99.000000  4.120258e+06      1.000000      0.980000      0.999000   \n",
      "\n",
      "                key      loudness   speechiness  acousticness  \\\n",
      "count  22412.000000  22412.000000  22412.000000  22412.000000   \n",
      "mean       5.278824     -7.196227      0.082914      0.267758   \n",
      "std        3.558813      3.738098      0.089317      0.276111   \n",
      "min        0.000000    -44.410000      0.000000      0.000001   \n",
      "25%        2.000000     -8.614500      0.033900      0.029800   \n",
      "50%        5.000000     -6.393000      0.046300      0.165000   \n",
      "75%        8.000000     -4.850000      0.086000      0.455000   \n",
      "max       11.000000      0.642000      0.944000      0.996000   \n",
      "\n",
      "       instrumentalness      liveness       valence         tempo  \n",
      "count      22412.000000  22412.000000  22412.000000  22412.000000  \n",
      "mean           0.040220      0.193141      0.518000    121.911945  \n",
      "std            0.152828      0.167943      0.244477     29.615254  \n",
      "min            0.000000      0.012000      0.000000      0.000000  \n",
      "25%            0.000000      0.094400      0.325000     97.988000  \n",
      "50%            0.000003      0.125000      0.512000    120.041000  \n",
      "75%            0.000523      0.240000      0.713000    140.078000  \n",
      "max            0.998000      0.997000      0.991000    220.099000  \n"
     ]
    }
   ],
   "source": [
    "print(tracks_df.describe())\n",
    "# print(tracks_df.columns)"
   ]
  },
  {
   "cell_type": "code",
   "execution_count": 7,
   "metadata": {
    "ExecuteTime": {
     "end_time": "2024-01-21T12:43:20.314652122Z",
     "start_time": "2024-01-21T12:43:20.313621274Z"
    }
   },
   "outputs": [
    {
     "name": "stdout",
     "output_type": "stream",
     "text": [
      "id                   object\n",
      "name                 object\n",
      "popularity          float64\n",
      "duration_ms           int64\n",
      "explicit              int64\n",
      "id_artist            object\n",
      "release_date         object\n",
      "danceability        float64\n",
      "energy              float64\n",
      "key                   int64\n",
      "loudness            float64\n",
      "speechiness         float64\n",
      "acousticness        float64\n",
      "instrumentalness    float64\n",
      "liveness            float64\n",
      "valence             float64\n",
      "tempo               float64\n",
      "dtype: object\n"
     ]
    }
   ],
   "source": [
    "print(tracks_df.dtypes)"
   ]
  },
  {
   "cell_type": "code",
   "execution_count": 8,
   "metadata": {
    "ExecuteTime": {
     "end_time": "2024-01-21T12:43:20.314810740Z",
     "start_time": "2024-01-21T12:43:20.313691406Z"
    }
   },
   "outputs": [
    {
     "name": "stdout",
     "output_type": "stream",
     "text": [
      "id                  1119\n",
      "name                1147\n",
      "popularity          1110\n",
      "duration_ms            0\n",
      "explicit               0\n",
      "id_artist           1146\n",
      "release_date           0\n",
      "danceability           0\n",
      "energy                 0\n",
      "key                    0\n",
      "loudness               0\n",
      "speechiness            0\n",
      "acousticness           0\n",
      "instrumentalness       0\n",
      "liveness               0\n",
      "valence                0\n",
      "tempo                  0\n",
      "dtype: int64 (22412, 17)\n"
     ]
    }
   ],
   "source": [
    "print(tracks_df.isnull().sum(), tracks_df.shape)"
   ]
  },
  {
   "cell_type": "code",
   "execution_count": 9,
   "metadata": {
    "ExecuteTime": {
     "end_time": "2024-01-21T12:43:20.315605135Z",
     "start_time": "2024-01-21T12:43:20.313761396Z"
    }
   },
   "outputs": [
    {
     "name": "stdout",
     "output_type": "stream",
     "text": [
      "id                  515\n",
      "name                511\n",
      "popularity          538\n",
      "duration_ms         538\n",
      "explicit            538\n",
      "id_artist           514\n",
      "release_date        538\n",
      "danceability        538\n",
      "energy              538\n",
      "key                 538\n",
      "loudness            538\n",
      "speechiness         538\n",
      "acousticness        538\n",
      "instrumentalness    538\n",
      "liveness            538\n",
      "valence             538\n",
      "tempo               538\n",
      "dtype: int64\n"
     ]
    }
   ],
   "source": [
    "print(tracks_df[tracks_df[\"popularity\"] >= 80].count())"
   ]
  },
  {
   "cell_type": "code",
   "execution_count": 10,
   "metadata": {
    "ExecuteTime": {
     "end_time": "2024-01-21T12:43:20.358601200Z",
     "start_time": "2024-01-21T12:43:20.313916443Z"
    }
   },
   "outputs": [
    {
     "name": "stdout",
     "output_type": "stream",
     "text": [
      "   user_id               name     city                  street  \\\n",
      "0     1151  Dominik Paździora  Wrocław  aleja Jabłoniowa 55/02   \n",
      "1     1152     Justyna Mszyca   Poznań          ul. Krótka 710   \n",
      "2     1153     Kornelia Witka   Gdynia      al. Kościuszki 587   \n",
      "3     1154     Jędrzej Kotala   Gdynia       pl. Kossaka 97/86   \n",
      "4     1155       Karol Kleban   Kraków      ul. Tulipanowa 861   \n",
      "\n",
      "                                    favourite_genres  premium_user   id  \n",
      "0                      [dance pop, latin, hard rock]           0.0 -1.0  \n",
      "1          [reggaeton, latin arena pop, modern rock]           0.0  NaN  \n",
      "2                              [rap, art rock, rock]           0.0  NaN  \n",
      "3  [mexican pop, contemporary country, psychedeli...           0.0  NaN  \n",
      "4            [rock, adult standards, permanent wave]           0.0  NaN   \n",
      "            user_id  premium_user    id\n",
      "count   500.000000    478.000000  27.0\n",
      "mean   1400.500000      0.219665  -1.0\n",
      "std     144.481833      0.414454   0.0\n",
      "min    1151.000000      0.000000  -1.0\n",
      "25%    1275.750000      0.000000  -1.0\n",
      "50%    1400.500000      0.000000  -1.0\n",
      "75%    1525.250000      0.000000  -1.0\n",
      "max    1650.000000      1.000000  -1.0\n"
     ]
    }
   ],
   "source": [
    "print(users_df.head(), \"\\n\", users_df.describe())"
   ]
  },
  {
   "cell_type": "code",
   "execution_count": 11,
   "metadata": {
    "ExecuteTime": {
     "end_time": "2024-01-21T12:43:20.358824543Z",
     "start_time": "2024-01-21T12:43:20.357410953Z"
    }
   },
   "outputs": [
    {
     "name": "stdout",
     "output_type": "stream",
     "text": [
      "user_id               0\n",
      "name                  0\n",
      "city                  0\n",
      "street                0\n",
      "favourite_genres     29\n",
      "premium_user         22\n",
      "id                  473\n",
      "dtype: int64 (500, 7)\n"
     ]
    }
   ],
   "source": [
    "print(users_df.isnull().sum(), users_df.shape)"
   ]
  },
  {
   "cell_type": "code",
   "execution_count": 12,
   "metadata": {
    "ExecuteTime": {
     "end_time": "2024-01-21T12:43:20.358975232Z",
     "start_time": "2024-01-21T12:43:20.357540698Z"
    }
   },
   "outputs": [
    {
     "name": "stdout",
     "output_type": "stream",
     "text": [
      "favourite_genres\n",
      "[dance pop, latin, hard rock]                1\n",
      "[norteno, dance pop, alternative rock]       1\n",
      "[pop, dance pop, adult standards]            1\n",
      "[corrido, corrido, rock en espanol]          1\n",
      "[pop, folk rock, electropop]                 1\n",
      "                                            ..\n",
      "[uk pop, regional mexican, hard rock]        1\n",
      "[french hip hop, rap, dance pop]             1\n",
      "[album rock, neo mellow, classic rock]       1\n",
      "[corrido, classic rock, alternative rock]    1\n",
      "[french hip hop, canadian pop, rock]         1\n",
      "Name: count, Length: 471, dtype: int64\n",
      "user_id               int64\n",
      "name                 object\n",
      "city                 object\n",
      "street               object\n",
      "favourite_genres     object\n",
      "premium_user        float64\n",
      "id                  float64\n",
      "dtype: object\n"
     ]
    }
   ],
   "source": [
    "print(users_df[\"favourite_genres\"].value_counts())\n",
    "print(users_df.dtypes)"
   ]
  },
  {
   "cell_type": "code",
   "execution_count": 13,
   "metadata": {
    "ExecuteTime": {
     "end_time": "2024-01-21T12:43:20.359091136Z",
     "start_time": "2024-01-21T12:43:20.357606360Z"
    }
   },
   "outputs": [
    {
     "name": "stdout",
     "output_type": "stream",
     "text": [
      "session_id             int64\n",
      "timestamp     datetime64[ns]\n",
      "user_id              float64\n",
      "track_id              object\n",
      "event_type            object\n",
      "dtype: object\n"
     ]
    }
   ],
   "source": [
    "print(sessions_df.dtypes)"
   ]
  },
  {
   "cell_type": "code",
   "execution_count": 14,
   "metadata": {
    "ExecuteTime": {
     "end_time": "2024-01-21T12:43:20.367634551Z",
     "start_time": "2024-01-21T12:43:20.357670990Z"
    }
   },
   "outputs": [
    {
     "name": "stdout",
     "output_type": "stream",
     "text": [
      "(759425, 5) \n",
      " session_id         0\n",
      "timestamp          0\n",
      "user_id        37870\n",
      "track_id      135409\n",
      "event_type     38047\n",
      "dtype: int64\n"
     ]
    }
   ],
   "source": [
    "print(sessions_df.shape, \"\\n\", sessions_df.isnull().sum())"
   ]
  },
  {
   "cell_type": "code",
   "execution_count": 15,
   "metadata": {
    "ExecuteTime": {
     "end_time": "2024-01-21T12:43:20.455427068Z",
     "start_time": "2024-01-21T12:43:20.368069886Z"
    }
   },
   "outputs": [
    {
     "data": {
      "text/plain": "session_id    133512\ntimestamp     677474\nuser_id          500\ntrack_id       22412\nevent_type         4\ndtype: int64"
     },
     "execution_count": 15,
     "metadata": {},
     "output_type": "execute_result"
    }
   ],
   "source": [
    "sessions_df.nunique()"
   ]
  },
  {
   "cell_type": "code",
   "execution_count": 16,
   "metadata": {
    "ExecuteTime": {
     "end_time": "2024-01-21T12:43:20.459649967Z",
     "start_time": "2024-01-21T12:43:20.453003356Z"
    }
   },
   "outputs": [
    {
     "data": {
      "text/plain": "        session_id               timestamp  user_id                track_id  \\\n754597      132742 2023-11-11 05:49:53.000   1297.0  5RmIP2OglmIOvsOxrE43Xw   \n754598      132742 2023-11-11 05:51:20.858   1297.0  5RmIP2OglmIOvsOxrE43Xw   \n754599      132742 2023-11-11 05:51:25.858   1297.0  5BrVJGkFTBPAMRl5hIE9A7   \n754600      132742 2023-11-11 05:53:29.590   1297.0  5BrVJGkFTBPAMRl5hIE9A7   \n754601      132742 2023-11-11 05:53:34.590   1297.0                    None   \n754602      132742 2023-11-11 05:53:34.590   1297.0  67VjdDhTa5jzQxHGe6f26r   \n754603      132742 2023-11-11 05:58:23.323   1297.0                    None   \n754604      132742 2023-11-11 05:58:23.323   1297.0  2LGdO5MtFdyphi2EihANZG   \n754605      132742 2023-11-11 06:02:45.886   1297.0                    None   \n754606      132742 2023-11-11 06:02:45.886   1297.0  4TofVhKSYwFXRtbYo5M3h4   \n754607      132742 2023-11-11 06:05:50.219   1297.0                    None   \n754608      132742 2023-11-11 06:05:50.219   1297.0  0gatssZ0J7pMAlvFCGZZGH   \n754609      132742 2023-11-11 06:08:57.592   1297.0  3Ys2PYl1wyPKQIwyqhP9cQ   \n754610      132742 2023-11-11 06:10:45.999   1297.0  3Ys2PYl1wyPKQIwyqhP9cQ   \n754611      132742 2023-11-11 06:10:50.999   1297.0                    None   \n754612      132742 2023-11-11 06:10:50.999   1297.0  3dsvRFQ7YWkNBH8GTPwf7Q   \n754613      132742 2023-11-11 06:11:15.400   1297.0  3dsvRFQ7YWkNBH8GTPwf7Q   \n754614      132742 2023-11-11 06:13:39.490      NaN  3dsvRFQ7YWkNBH8GTPwf7Q   \n754615      132742 2023-11-11 06:13:40.490   1297.0  5p7GiBZNL1afJJDUrOA6C8   \n754616      132742 2023-11-11 06:15:40.878   1297.0                    None   \n754617      132742 2023-11-11 06:15:45.878   1297.0  5CdX4HXMRxyldTVxXDrzSA   \n754618      132742 2023-11-11 06:17:36.052   1297.0                    None   \n754619      132742 2023-11-11 06:17:36.052   1297.0  5CdX4HXMRxyldTVxXDrzSA   \n754620      132742 2023-11-11 06:19:30.411   1297.0  0axUHkhMMY0YSC1jFBVWqv   \n754621      132742 2023-11-11 06:20:41.942   1297.0                    None   \n754622      132742 2023-11-11 06:22:53.958   1297.0  70fVcEP5pRrxaIICY3DcPe   \n754623      132742 2023-11-11 06:26:04.438   1297.0                    None   \n\n          event_type  \n754597          play  \n754598          skip  \n754599          play  \n754600          skip  \n754601  advertisment  \n754602          play  \n754603  advertisment  \n754604          None  \n754605  advertisment  \n754606          play  \n754607  advertisment  \n754608          play  \n754609          play  \n754610          skip  \n754611  advertisment  \n754612          play  \n754613          like  \n754614          skip  \n754615          play  \n754616          None  \n754617          play  \n754618  advertisment  \n754619          like  \n754620          play  \n754621          like  \n754622          play  \n754623  advertisment  ",
      "text/html": "<div>\n<style scoped>\n    .dataframe tbody tr th:only-of-type {\n        vertical-align: middle;\n    }\n\n    .dataframe tbody tr th {\n        vertical-align: top;\n    }\n\n    .dataframe thead th {\n        text-align: right;\n    }\n</style>\n<table border=\"1\" class=\"dataframe\">\n  <thead>\n    <tr style=\"text-align: right;\">\n      <th></th>\n      <th>session_id</th>\n      <th>timestamp</th>\n      <th>user_id</th>\n      <th>track_id</th>\n      <th>event_type</th>\n    </tr>\n  </thead>\n  <tbody>\n    <tr>\n      <th>754597</th>\n      <td>132742</td>\n      <td>2023-11-11 05:49:53.000</td>\n      <td>1297.0</td>\n      <td>5RmIP2OglmIOvsOxrE43Xw</td>\n      <td>play</td>\n    </tr>\n    <tr>\n      <th>754598</th>\n      <td>132742</td>\n      <td>2023-11-11 05:51:20.858</td>\n      <td>1297.0</td>\n      <td>5RmIP2OglmIOvsOxrE43Xw</td>\n      <td>skip</td>\n    </tr>\n    <tr>\n      <th>754599</th>\n      <td>132742</td>\n      <td>2023-11-11 05:51:25.858</td>\n      <td>1297.0</td>\n      <td>5BrVJGkFTBPAMRl5hIE9A7</td>\n      <td>play</td>\n    </tr>\n    <tr>\n      <th>754600</th>\n      <td>132742</td>\n      <td>2023-11-11 05:53:29.590</td>\n      <td>1297.0</td>\n      <td>5BrVJGkFTBPAMRl5hIE9A7</td>\n      <td>skip</td>\n    </tr>\n    <tr>\n      <th>754601</th>\n      <td>132742</td>\n      <td>2023-11-11 05:53:34.590</td>\n      <td>1297.0</td>\n      <td>None</td>\n      <td>advertisment</td>\n    </tr>\n    <tr>\n      <th>754602</th>\n      <td>132742</td>\n      <td>2023-11-11 05:53:34.590</td>\n      <td>1297.0</td>\n      <td>67VjdDhTa5jzQxHGe6f26r</td>\n      <td>play</td>\n    </tr>\n    <tr>\n      <th>754603</th>\n      <td>132742</td>\n      <td>2023-11-11 05:58:23.323</td>\n      <td>1297.0</td>\n      <td>None</td>\n      <td>advertisment</td>\n    </tr>\n    <tr>\n      <th>754604</th>\n      <td>132742</td>\n      <td>2023-11-11 05:58:23.323</td>\n      <td>1297.0</td>\n      <td>2LGdO5MtFdyphi2EihANZG</td>\n      <td>None</td>\n    </tr>\n    <tr>\n      <th>754605</th>\n      <td>132742</td>\n      <td>2023-11-11 06:02:45.886</td>\n      <td>1297.0</td>\n      <td>None</td>\n      <td>advertisment</td>\n    </tr>\n    <tr>\n      <th>754606</th>\n      <td>132742</td>\n      <td>2023-11-11 06:02:45.886</td>\n      <td>1297.0</td>\n      <td>4TofVhKSYwFXRtbYo5M3h4</td>\n      <td>play</td>\n    </tr>\n    <tr>\n      <th>754607</th>\n      <td>132742</td>\n      <td>2023-11-11 06:05:50.219</td>\n      <td>1297.0</td>\n      <td>None</td>\n      <td>advertisment</td>\n    </tr>\n    <tr>\n      <th>754608</th>\n      <td>132742</td>\n      <td>2023-11-11 06:05:50.219</td>\n      <td>1297.0</td>\n      <td>0gatssZ0J7pMAlvFCGZZGH</td>\n      <td>play</td>\n    </tr>\n    <tr>\n      <th>754609</th>\n      <td>132742</td>\n      <td>2023-11-11 06:08:57.592</td>\n      <td>1297.0</td>\n      <td>3Ys2PYl1wyPKQIwyqhP9cQ</td>\n      <td>play</td>\n    </tr>\n    <tr>\n      <th>754610</th>\n      <td>132742</td>\n      <td>2023-11-11 06:10:45.999</td>\n      <td>1297.0</td>\n      <td>3Ys2PYl1wyPKQIwyqhP9cQ</td>\n      <td>skip</td>\n    </tr>\n    <tr>\n      <th>754611</th>\n      <td>132742</td>\n      <td>2023-11-11 06:10:50.999</td>\n      <td>1297.0</td>\n      <td>None</td>\n      <td>advertisment</td>\n    </tr>\n    <tr>\n      <th>754612</th>\n      <td>132742</td>\n      <td>2023-11-11 06:10:50.999</td>\n      <td>1297.0</td>\n      <td>3dsvRFQ7YWkNBH8GTPwf7Q</td>\n      <td>play</td>\n    </tr>\n    <tr>\n      <th>754613</th>\n      <td>132742</td>\n      <td>2023-11-11 06:11:15.400</td>\n      <td>1297.0</td>\n      <td>3dsvRFQ7YWkNBH8GTPwf7Q</td>\n      <td>like</td>\n    </tr>\n    <tr>\n      <th>754614</th>\n      <td>132742</td>\n      <td>2023-11-11 06:13:39.490</td>\n      <td>NaN</td>\n      <td>3dsvRFQ7YWkNBH8GTPwf7Q</td>\n      <td>skip</td>\n    </tr>\n    <tr>\n      <th>754615</th>\n      <td>132742</td>\n      <td>2023-11-11 06:13:40.490</td>\n      <td>1297.0</td>\n      <td>5p7GiBZNL1afJJDUrOA6C8</td>\n      <td>play</td>\n    </tr>\n    <tr>\n      <th>754616</th>\n      <td>132742</td>\n      <td>2023-11-11 06:15:40.878</td>\n      <td>1297.0</td>\n      <td>None</td>\n      <td>None</td>\n    </tr>\n    <tr>\n      <th>754617</th>\n      <td>132742</td>\n      <td>2023-11-11 06:15:45.878</td>\n      <td>1297.0</td>\n      <td>5CdX4HXMRxyldTVxXDrzSA</td>\n      <td>play</td>\n    </tr>\n    <tr>\n      <th>754618</th>\n      <td>132742</td>\n      <td>2023-11-11 06:17:36.052</td>\n      <td>1297.0</td>\n      <td>None</td>\n      <td>advertisment</td>\n    </tr>\n    <tr>\n      <th>754619</th>\n      <td>132742</td>\n      <td>2023-11-11 06:17:36.052</td>\n      <td>1297.0</td>\n      <td>5CdX4HXMRxyldTVxXDrzSA</td>\n      <td>like</td>\n    </tr>\n    <tr>\n      <th>754620</th>\n      <td>132742</td>\n      <td>2023-11-11 06:19:30.411</td>\n      <td>1297.0</td>\n      <td>0axUHkhMMY0YSC1jFBVWqv</td>\n      <td>play</td>\n    </tr>\n    <tr>\n      <th>754621</th>\n      <td>132742</td>\n      <td>2023-11-11 06:20:41.942</td>\n      <td>1297.0</td>\n      <td>None</td>\n      <td>like</td>\n    </tr>\n    <tr>\n      <th>754622</th>\n      <td>132742</td>\n      <td>2023-11-11 06:22:53.958</td>\n      <td>1297.0</td>\n      <td>70fVcEP5pRrxaIICY3DcPe</td>\n      <td>play</td>\n    </tr>\n    <tr>\n      <th>754623</th>\n      <td>132742</td>\n      <td>2023-11-11 06:26:04.438</td>\n      <td>1297.0</td>\n      <td>None</td>\n      <td>advertisment</td>\n    </tr>\n  </tbody>\n</table>\n</div>"
     },
     "execution_count": 16,
     "metadata": {},
     "output_type": "execute_result"
    }
   ],
   "source": [
    "sessions_df[sessions_df[\"session_id\"] == 132742].sort_values(by=\"timestamp\")"
   ]
  },
  {
   "cell_type": "code",
   "execution_count": 17,
   "outputs": [
    {
     "data": {
      "text/plain": "                 track_id storage_class  daily_cost\n0  0RNxWy0PC3AyH4ThH3aGK6          slow    0.010073\n1  2W889aLIKxULEefrleFBFI          slow    0.009900\n2  4Pnzw1nLOpDNV6MKI5ueIR          slow    0.009950\n3  7GLmfKOe5BfOXk7334DoKt          slow    0.008150\n4  6kD1SNGPkfX9LwaGd1FG92          slow    0.009309",
      "text/html": "<div>\n<style scoped>\n    .dataframe tbody tr th:only-of-type {\n        vertical-align: middle;\n    }\n\n    .dataframe tbody tr th {\n        vertical-align: top;\n    }\n\n    .dataframe thead th {\n        text-align: right;\n    }\n</style>\n<table border=\"1\" class=\"dataframe\">\n  <thead>\n    <tr style=\"text-align: right;\">\n      <th></th>\n      <th>track_id</th>\n      <th>storage_class</th>\n      <th>daily_cost</th>\n    </tr>\n  </thead>\n  <tbody>\n    <tr>\n      <th>0</th>\n      <td>0RNxWy0PC3AyH4ThH3aGK6</td>\n      <td>slow</td>\n      <td>0.010073</td>\n    </tr>\n    <tr>\n      <th>1</th>\n      <td>2W889aLIKxULEefrleFBFI</td>\n      <td>slow</td>\n      <td>0.009900</td>\n    </tr>\n    <tr>\n      <th>2</th>\n      <td>4Pnzw1nLOpDNV6MKI5ueIR</td>\n      <td>slow</td>\n      <td>0.009950</td>\n    </tr>\n    <tr>\n      <th>3</th>\n      <td>7GLmfKOe5BfOXk7334DoKt</td>\n      <td>slow</td>\n      <td>0.008150</td>\n    </tr>\n    <tr>\n      <th>4</th>\n      <td>6kD1SNGPkfX9LwaGd1FG92</td>\n      <td>slow</td>\n      <td>0.009309</td>\n    </tr>\n  </tbody>\n</table>\n</div>"
     },
     "execution_count": 17,
     "metadata": {},
     "output_type": "execute_result"
    }
   ],
   "source": [
    "track_storage_df.head()"
   ],
   "metadata": {
    "collapsed": false,
    "ExecuteTime": {
     "end_time": "2024-01-21T12:43:20.466145092Z",
     "start_time": "2024-01-21T12:43:20.459426593Z"
    }
   }
  },
  {
   "cell_type": "code",
   "execution_count": 18,
   "outputs": [
    {
     "name": "stdout",
     "output_type": "stream",
     "text": [
      "session_id         0\n",
      "timestamp          0\n",
      "user_id        37870\n",
      "track_id      135409\n",
      "event_type     38047\n",
      "dtype: int64 (759425, 5)\n"
     ]
    }
   ],
   "source": [
    "print(sessions_df.isna().sum(), sessions_df.shape)"
   ],
   "metadata": {
    "collapsed": false,
    "ExecuteTime": {
     "end_time": "2024-01-21T12:43:20.518700093Z",
     "start_time": "2024-01-21T12:43:20.466538102Z"
    }
   }
  }
 ],
 "metadata": {
  "kernelspec": {
   "display_name": "venv",
   "language": "python",
   "name": "python3"
  },
  "language_info": {
   "codemirror_mode": {
    "name": "ipython",
    "version": 3
   },
   "file_extension": ".py",
   "mimetype": "text/x-python",
   "name": "python",
   "nbconvert_exporter": "python",
   "pygments_lexer": "ipython3",
   "version": "3.10.1"
  }
 },
 "nbformat": 4,
 "nbformat_minor": 2
}
