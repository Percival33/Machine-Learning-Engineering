{
 "cells": [
  {
   "cell_type": "code",
   "execution_count": 2,
   "metadata": {},
   "outputs": [],
   "source": [
    "import pandas as pd"
   ]
  },
  {
   "cell_type": "markdown",
   "source": [],
   "metadata": {
    "collapsed": false
   }
  },
  {
   "cell_type": "code",
   "execution_count": 8,
   "metadata": {},
   "outputs": [],
   "source": [
    "artists_df = pd.read_json('../data/raw/05_02_v1/artists.jsonl', lines=True)\n",
    "tracks_df = pd.read_json('../data/raw/05_02_v1/tracks.jsonl', lines=True)\n",
    "users_df = pd.read_json('../data/raw/05_02_v1/users.jsonl', lines=True)\n",
    "sessions_df = pd.read_json('../data/raw/05_02_v1/sessions.jsonl', lines=True)\n",
    "track_storage_df = pd.read_json('../data/raw/05_02_v1/track_storage.jsonl', lines=True)"
   ]
  },
  {
   "cell_type": "code",
   "execution_count": 12,
   "metadata": {},
   "outputs": [
    {
     "name": "stdout",
     "output_type": "stream",
     "text": [
      "id        object\n",
      "name      object\n",
      "genres    object\n",
      "dtype: object (1667, 3)                        id            name  \\\n",
      "0  7jVv8c5Fj3E9VhNjxT4snq       Lil Nas X   \n",
      "1  0xRXCcSX89eobfrshSVdyu          MEDUZA   \n",
      "2  3OKg7YbOIatODzkRIbLJR4       TheFatRat   \n",
      "3  4f7KfxeHq9BiylGmyXepGt  Tanishk Bagchi   \n",
      "4  56mfhUDKa1vec6rSLZV5Eg       Jawsh 685   \n",
      "\n",
      "                                              genres  \n",
      "0  [country rap, lgbtq+ hip hop, pop rap, queer c...  \n",
      "1  [dance pop, edm, pop dance, pop house, tropica...  \n",
      "2                                         [speedrun]  \n",
      "3                [desi pop, filmi, modern bollywood]  \n",
      "4                                           [nz pop]  \n"
     ]
    }
   ],
   "source": [
    "print(artists_df.dtypes, artists_df.shape, artists_df.head())\n"
   ]
  },
  {
   "cell_type": "code",
   "execution_count": 22,
   "metadata": {},
   "outputs": [
    {
     "name": "stdout",
     "output_type": "stream",
     "text": [
      "                       id                                               name  \\\n",
      "0  0RNxWy0PC3AyH4ThH3aGK6                                     Mack the Knife   \n",
      "1  2W889aLIKxULEefrleFBFI                           Someone to Watch Over Me   \n",
      "2  4Pnzw1nLOpDNV6MKI5ueIR     Nancy (With the Laughing Face) - 78rpm Version   \n",
      "3  7GLmfKOe5BfOXk7334DoKt  Saturday Night (Is The Loneliest Night In The ...   \n",
      "4  6kD1SNGPkfX9LwaGd1FG92             Put Your Dreams Away (For Another Day)   \n",
      "\n",
      "   popularity  duration_ms  explicit               id_artist release_date  \\\n",
      "0        55.0       201467         0  19eLuQmk9aCobbVDHc6eek         1929   \n",
      "1        54.0       198000         0                    None         1943   \n",
      "2        55.0       199000         0  1Mxqyy3pSjf8kZZL4QVxS0         1944   \n",
      "3        54.0       163000         0  1Mxqyy3pSjf8kZZL4QVxS0         1944   \n",
      "4        53.0       186173         0  1Mxqyy3pSjf8kZZL4QVxS0         1944   \n",
      "\n",
      "   danceability  energy  key  loudness  speechiness  acousticness  \\\n",
      "0         0.673  0.3770    0   -14.141       0.0697         0.586   \n",
      "1         0.204  0.1510    2   -17.842       0.0418         0.947   \n",
      "2         0.295  0.0826    1   -19.569       0.0367         0.984   \n",
      "3         0.561  0.3350    9   -11.093       0.0499         0.840   \n",
      "4         0.197  0.0546    1   -22.411       0.0346         0.950   \n",
      "\n",
      "   instrumentalness  liveness  valence    tempo  \n",
      "0          0.000000     0.332    0.713   88.973  \n",
      "1          0.000009     0.321    0.134   91.783  \n",
      "2          0.000358     0.156    0.169  128.600  \n",
      "3          0.000002     0.788    0.590  126.974  \n",
      "4          0.276000     0.152    0.100   90.150  \n"
     ]
    }
   ],
   "source": [
    "print(tracks_df.head())"
   ]
  },
  {
   "cell_type": "code",
   "execution_count": 7,
   "metadata": {},
   "outputs": [
    {
     "name": "stdout",
     "output_type": "stream",
     "text": [
      "         popularity   duration_ms      explicit  danceability        energy  \\\n",
      "count  21302.000000  2.241200e+04  22412.000000  22412.000000  22412.000000   \n",
      "mean      61.388133  2.301383e+05      0.166607      0.599096      0.648017   \n",
      "std        8.052055  7.209562e+04      0.372633      0.158259      0.209577   \n",
      "min       51.000000  3.062200e+04      0.000000      0.000000      0.000103   \n",
      "25%       55.000000  1.914930e+05      0.000000      0.495000      0.508000   \n",
      "50%       60.000000  2.206670e+05      0.000000      0.608000      0.672000   \n",
      "75%       67.000000  2.562400e+05      0.000000      0.715000      0.816000   \n",
      "max       99.000000  4.120258e+06      1.000000      0.980000      0.999000   \n",
      "\n",
      "                key      loudness   speechiness  acousticness  \\\n",
      "count  22412.000000  22412.000000  22412.000000  22412.000000   \n",
      "mean       5.278824     -7.196227      0.082914      0.267758   \n",
      "std        3.558813      3.738098      0.089317      0.276111   \n",
      "min        0.000000    -44.410000      0.000000      0.000001   \n",
      "25%        2.000000     -8.614500      0.033900      0.029800   \n",
      "50%        5.000000     -6.393000      0.046300      0.165000   \n",
      "75%        8.000000     -4.850000      0.086000      0.455000   \n",
      "max       11.000000      0.642000      0.944000      0.996000   \n",
      "\n",
      "       instrumentalness      liveness       valence         tempo  \n",
      "count      22412.000000  22412.000000  22412.000000  22412.000000  \n",
      "mean           0.040220      0.193141      0.518000    121.911945  \n",
      "std            0.152828      0.167943      0.244477     29.615254  \n",
      "min            0.000000      0.012000      0.000000      0.000000  \n",
      "25%            0.000000      0.094400      0.325000     97.988000  \n",
      "50%            0.000003      0.125000      0.512000    120.041000  \n",
      "75%            0.000523      0.240000      0.713000    140.078000  \n",
      "max            0.998000      0.997000      0.991000    220.099000  \n"
     ]
    }
   ],
   "source": [
    "print(tracks_df.describe())\n",
    "# print(tracks_df.columns)"
   ]
  },
  {
   "cell_type": "code",
   "execution_count": 30,
   "metadata": {},
   "outputs": [
    {
     "name": "stdout",
     "output_type": "stream",
     "text": [
      "id                   object\n",
      "name                 object\n",
      "popularity          float64\n",
      "duration_ms           int64\n",
      "explicit              int64\n",
      "id_artist            object\n",
      "release_date         object\n",
      "danceability        float64\n",
      "energy              float64\n",
      "key                   int64\n",
      "loudness            float64\n",
      "speechiness         float64\n",
      "acousticness        float64\n",
      "instrumentalness    float64\n",
      "liveness            float64\n",
      "valence             float64\n",
      "tempo               float64\n",
      "dtype: object\n"
     ]
    }
   ],
   "source": [
    "print(tracks_df.dtypes)"
   ]
  },
  {
   "cell_type": "code",
   "execution_count": 69,
   "metadata": {},
   "outputs": [
    {
     "name": "stdout",
     "output_type": "stream",
     "text": [
      "id                  1119\n",
      "name                1147\n",
      "popularity          1110\n",
      "duration_ms            0\n",
      "explicit               0\n",
      "id_artist           1146\n",
      "release_date           0\n",
      "danceability           0\n",
      "energy                 0\n",
      "key                    0\n",
      "loudness               0\n",
      "speechiness            0\n",
      "acousticness           0\n",
      "instrumentalness       0\n",
      "liveness               0\n",
      "valence                0\n",
      "tempo                  0\n",
      "dtype: int64 (22412, 17)\n"
     ]
    }
   ],
   "source": [
    "print(tracks_df.isnull().sum(), tracks_df.shape)"
   ]
  },
  {
   "cell_type": "code",
   "execution_count": 68,
   "metadata": {},
   "outputs": [
    {
     "name": "stdout",
     "output_type": "stream",
     "text": [
      "id                  515\n",
      "name                511\n",
      "popularity          538\n",
      "duration_ms         538\n",
      "explicit            538\n",
      "id_artist           514\n",
      "release_date        538\n",
      "danceability        538\n",
      "energy              538\n",
      "key                 538\n",
      "loudness            538\n",
      "speechiness         538\n",
      "acousticness        538\n",
      "instrumentalness    538\n",
      "liveness            538\n",
      "valence             538\n",
      "tempo               538\n",
      "dtype: int64\n"
     ]
    }
   ],
   "source": [
    "print(tracks_df[tracks_df['popularity'] >= 80].count())"
   ]
  },
  {
   "cell_type": "code",
   "execution_count": 39,
   "metadata": {},
   "outputs": [
    {
     "name": "stdout",
     "output_type": "stream",
     "text": [
      "   user_id               name     city                  street  \\\n",
      "0     1151  Dominik Paździora  Wrocław  aleja Jabłoniowa 55/02   \n",
      "1     1152     Justyna Mszyca   Poznań          ul. Krótka 710   \n",
      "2     1153     Kornelia Witka   Gdynia      al. Kościuszki 587   \n",
      "3     1154     Jędrzej Kotala   Gdynia       pl. Kossaka 97/86   \n",
      "4     1155       Karol Kleban   Kraków      ul. Tulipanowa 861   \n",
      "\n",
      "                                    favourite_genres  premium_user   id  \n",
      "0                      [dance pop, latin, hard rock]           0.0 -1.0  \n",
      "1          [reggaeton, latin arena pop, modern rock]           0.0  NaN  \n",
      "2                              [rap, art rock, rock]           0.0  NaN  \n",
      "3  [mexican pop, contemporary country, psychedeli...           0.0  NaN  \n",
      "4            [rock, adult standards, permanent wave]           0.0  NaN   \n",
      "            user_id  premium_user    id\n",
      "count   500.000000    478.000000  27.0\n",
      "mean   1400.500000      0.219665  -1.0\n",
      "std     144.481833      0.414454   0.0\n",
      "min    1151.000000      0.000000  -1.0\n",
      "25%    1275.750000      0.000000  -1.0\n",
      "50%    1400.500000      0.000000  -1.0\n",
      "75%    1525.250000      0.000000  -1.0\n",
      "max    1650.000000      1.000000  -1.0\n"
     ]
    }
   ],
   "source": [
    "print(users_df.head(), '\\n', users_df.describe())\n"
   ]
  },
  {
   "cell_type": "code",
   "execution_count": 75,
   "metadata": {},
   "outputs": [
    {
     "name": "stdout",
     "output_type": "stream",
     "text": [
      "user_id               0\n",
      "name                  0\n",
      "city                  0\n",
      "street                0\n",
      "favourite_genres     29\n",
      "premium_user         22\n",
      "id                  473\n",
      "dtype: int64 (500, 7)\n"
     ]
    }
   ],
   "source": [
    "print(users_df.isnull().sum(), users_df.shape)"
   ]
  },
  {
   "cell_type": "code",
   "execution_count": 84,
   "metadata": {},
   "outputs": [
    {
     "ename": "KeyError",
     "evalue": "False",
     "output_type": "error",
     "traceback": [
      "\u001B[0;31m---------------------------------------------------------------------------\u001B[0m",
      "\u001B[0;31mKeyError\u001B[0m                                  Traceback (most recent call last)",
      "File \u001B[0;32m~/Documents/studia/sem5/machine_learning_engineering/venv/lib/python3.10/site-packages/pandas/core/indexes/base.py:3790\u001B[0m, in \u001B[0;36mIndex.get_loc\u001B[0;34m(self, key)\u001B[0m\n\u001B[1;32m   3789\u001B[0m \u001B[39mtry\u001B[39;00m:\n\u001B[0;32m-> 3790\u001B[0m     \u001B[39mreturn\u001B[39;00m \u001B[39mself\u001B[39;49m\u001B[39m.\u001B[39;49m_engine\u001B[39m.\u001B[39;49mget_loc(casted_key)\n\u001B[1;32m   3791\u001B[0m \u001B[39mexcept\u001B[39;00m \u001B[39mKeyError\u001B[39;00m \u001B[39mas\u001B[39;00m err:\n",
      "File \u001B[0;32mindex.pyx:152\u001B[0m, in \u001B[0;36mpandas._libs.index.IndexEngine.get_loc\u001B[0;34m()\u001B[0m\n",
      "File \u001B[0;32mindex.pyx:160\u001B[0m, in \u001B[0;36mpandas._libs.index.IndexEngine.get_loc\u001B[0;34m()\u001B[0m\n",
      "File \u001B[0;32mpandas/_libs/index_class_helper.pxi:70\u001B[0m, in \u001B[0;36mpandas._libs.index.Int64Engine._check_type\u001B[0;34m()\u001B[0m\n",
      "\u001B[0;31mKeyError\u001B[0m: False",
      "\nThe above exception was the direct cause of the following exception:\n",
      "\u001B[0;31mKeyError\u001B[0m                                  Traceback (most recent call last)",
      "\u001B[1;32m/Users/marcinjarczewski/Documents/studia/sem5/machine_learning_engineering/notebooks/data_analisis.ipynb Cell 11\u001B[0m line \u001B[0;36m2\n\u001B[1;32m      <a href='vscode-notebook-cell:/Users/marcinjarczewski/Documents/studia/sem5/machine_learning_engineering/notebooks/data_analisis.ipynb#X22sZmlsZQ%3D%3D?line=0'>1</a>\u001B[0m A\u001B[39m=\u001B[39msessions_df[\u001B[39m'\u001B[39m\u001B[39muser_id\u001B[39m\u001B[39m'\u001B[39m]\u001B[39m.\u001B[39mdropna()\n\u001B[0;32m----> <a href='vscode-notebook-cell:/Users/marcinjarczewski/Documents/studia/sem5/machine_learning_engineering/notebooks/data_analisis.ipynb#X22sZmlsZQ%3D%3D?line=1'>2</a>\u001B[0m A[\u001B[39m\"\u001B[39;49m\u001B[39muser_id\u001B[39;49m\u001B[39m\"\u001B[39;49m \u001B[39m==\u001B[39;49m \u001B[39m1159\u001B[39;49m]\n",
      "File \u001B[0;32m~/Documents/studia/sem5/machine_learning_engineering/venv/lib/python3.10/site-packages/pandas/core/series.py:1040\u001B[0m, in \u001B[0;36mSeries.__getitem__\u001B[0;34m(self, key)\u001B[0m\n\u001B[1;32m   1037\u001B[0m     \u001B[39mreturn\u001B[39;00m \u001B[39mself\u001B[39m\u001B[39m.\u001B[39m_values[key]\n\u001B[1;32m   1039\u001B[0m \u001B[39melif\u001B[39;00m key_is_scalar:\n\u001B[0;32m-> 1040\u001B[0m     \u001B[39mreturn\u001B[39;00m \u001B[39mself\u001B[39;49m\u001B[39m.\u001B[39;49m_get_value(key)\n\u001B[1;32m   1042\u001B[0m \u001B[39m# Convert generator to list before going through hashable part\u001B[39;00m\n\u001B[1;32m   1043\u001B[0m \u001B[39m# (We will iterate through the generator there to check for slices)\u001B[39;00m\n\u001B[1;32m   1044\u001B[0m \u001B[39mif\u001B[39;00m is_iterator(key):\n",
      "File \u001B[0;32m~/Documents/studia/sem5/machine_learning_engineering/venv/lib/python3.10/site-packages/pandas/core/series.py:1156\u001B[0m, in \u001B[0;36mSeries._get_value\u001B[0;34m(self, label, takeable)\u001B[0m\n\u001B[1;32m   1153\u001B[0m     \u001B[39mreturn\u001B[39;00m \u001B[39mself\u001B[39m\u001B[39m.\u001B[39m_values[label]\n\u001B[1;32m   1155\u001B[0m \u001B[39m# Similar to Index.get_value, but we do not fall back to positional\u001B[39;00m\n\u001B[0;32m-> 1156\u001B[0m loc \u001B[39m=\u001B[39m \u001B[39mself\u001B[39;49m\u001B[39m.\u001B[39;49mindex\u001B[39m.\u001B[39;49mget_loc(label)\n\u001B[1;32m   1158\u001B[0m \u001B[39mif\u001B[39;00m is_integer(loc):\n\u001B[1;32m   1159\u001B[0m     \u001B[39mreturn\u001B[39;00m \u001B[39mself\u001B[39m\u001B[39m.\u001B[39m_values[loc]\n",
      "File \u001B[0;32m~/Documents/studia/sem5/machine_learning_engineering/venv/lib/python3.10/site-packages/pandas/core/indexes/base.py:3797\u001B[0m, in \u001B[0;36mIndex.get_loc\u001B[0;34m(self, key)\u001B[0m\n\u001B[1;32m   3792\u001B[0m     \u001B[39mif\u001B[39;00m \u001B[39misinstance\u001B[39m(casted_key, \u001B[39mslice\u001B[39m) \u001B[39mor\u001B[39;00m (\n\u001B[1;32m   3793\u001B[0m         \u001B[39misinstance\u001B[39m(casted_key, abc\u001B[39m.\u001B[39mIterable)\n\u001B[1;32m   3794\u001B[0m         \u001B[39mand\u001B[39;00m \u001B[39many\u001B[39m(\u001B[39misinstance\u001B[39m(x, \u001B[39mslice\u001B[39m) \u001B[39mfor\u001B[39;00m x \u001B[39min\u001B[39;00m casted_key)\n\u001B[1;32m   3795\u001B[0m     ):\n\u001B[1;32m   3796\u001B[0m         \u001B[39mraise\u001B[39;00m InvalidIndexError(key)\n\u001B[0;32m-> 3797\u001B[0m     \u001B[39mraise\u001B[39;00m \u001B[39mKeyError\u001B[39;00m(key) \u001B[39mfrom\u001B[39;00m \u001B[39merr\u001B[39;00m\n\u001B[1;32m   3798\u001B[0m \u001B[39mexcept\u001B[39;00m \u001B[39mTypeError\u001B[39;00m:\n\u001B[1;32m   3799\u001B[0m     \u001B[39m# If we have a listlike key, _check_indexing_error will raise\u001B[39;00m\n\u001B[1;32m   3800\u001B[0m     \u001B[39m#  InvalidIndexError. Otherwise we fall through and re-raise\u001B[39;00m\n\u001B[1;32m   3801\u001B[0m     \u001B[39m#  the TypeError.\u001B[39;00m\n\u001B[1;32m   3802\u001B[0m     \u001B[39mself\u001B[39m\u001B[39m.\u001B[39m_check_indexing_error(key)\n",
      "\u001B[0;31mKeyError\u001B[0m: False"
     ]
    }
   ],
   "source": [
    "A=sessions_df['user_id'].dropna()\n",
    "A[\"user_id\" == 1159]"
   ]
  },
  {
   "cell_type": "code",
   "execution_count": 48,
   "metadata": {},
   "outputs": [
    {
     "name": "stdout",
     "output_type": "stream",
     "text": [
      "favourite_genres\n",
      "[dance pop, latin, hard rock]                1\n",
      "[norteno, dance pop, alternative rock]       1\n",
      "[pop, dance pop, adult standards]            1\n",
      "[corrido, corrido, rock en espanol]          1\n",
      "[pop, folk rock, electropop]                 1\n",
      "                                            ..\n",
      "[uk pop, regional mexican, hard rock]        1\n",
      "[french hip hop, rap, dance pop]             1\n",
      "[album rock, neo mellow, classic rock]       1\n",
      "[corrido, classic rock, alternative rock]    1\n",
      "[french hip hop, canadian pop, rock]         1\n",
      "Name: count, Length: 471, dtype: int64\n",
      "user_id               int64\n",
      "name                 object\n",
      "city                 object\n",
      "street               object\n",
      "favourite_genres     object\n",
      "premium_user        float64\n",
      "id                  float64\n",
      "dtype: object\n"
     ]
    }
   ],
   "source": [
    "print(users_df['favourite_genres'].value_counts())\n",
    "print(users_df.dtypes)\n"
   ]
  },
  {
   "cell_type": "code",
   "execution_count": 52,
   "metadata": {},
   "outputs": [
    {
     "name": "stdout",
     "output_type": "stream",
     "text": [
      "session_id             int64\n",
      "timestamp     datetime64[ns]\n",
      "user_id              float64\n",
      "track_id              object\n",
      "event_type            object\n",
      "dtype: object\n"
     ]
    }
   ],
   "source": [
    "print(sessions_df.dtypes)"
   ]
  },
  {
   "cell_type": "code",
   "execution_count": 70,
   "metadata": {},
   "outputs": [
    {
     "name": "stdout",
     "output_type": "stream",
     "text": [
      "(759425, 5) \n",
      " session_id         0\n",
      "timestamp          0\n",
      "user_id        37870\n",
      "track_id      135409\n",
      "event_type     38047\n",
      "dtype: int64\n"
     ]
    }
   ],
   "source": [
    "print(sessions_df.shape, '\\n', sessions_df.isnull().sum())"
   ]
  },
  {
   "cell_type": "code",
   "execution_count": 60,
   "metadata": {},
   "outputs": [
    {
     "data": {
      "text/plain": [
       "session_id    133512\n",
       "timestamp     677474\n",
       "user_id          500\n",
       "track_id       22412\n",
       "event_type         4\n",
       "dtype: int64"
      ]
     },
     "execution_count": 60,
     "metadata": {},
     "output_type": "execute_result"
    }
   ],
   "source": [
    "sessions_df.nunique()"
   ]
  },
  {
   "cell_type": "code",
   "execution_count": 72,
   "metadata": {},
   "outputs": [
    {
     "data": {
      "text/html": [
       "<div>\n",
       "<style scoped>\n",
       "    .dataframe tbody tr th:only-of-type {\n",
       "        vertical-align: middle;\n",
       "    }\n",
       "\n",
       "    .dataframe tbody tr th {\n",
       "        vertical-align: top;\n",
       "    }\n",
       "\n",
       "    .dataframe thead th {\n",
       "        text-align: right;\n",
       "    }\n",
       "</style>\n",
       "<table border=\"1\" class=\"dataframe\">\n",
       "  <thead>\n",
       "    <tr style=\"text-align: right;\">\n",
       "      <th></th>\n",
       "      <th>session_id</th>\n",
       "      <th>timestamp</th>\n",
       "      <th>user_id</th>\n",
       "      <th>track_id</th>\n",
       "      <th>event_type</th>\n",
       "    </tr>\n",
       "  </thead>\n",
       "  <tbody>\n",
       "    <tr>\n",
       "      <th>754597</th>\n",
       "      <td>132742</td>\n",
       "      <td>2023-11-11 05:49:53.000</td>\n",
       "      <td>1297.0</td>\n",
       "      <td>5RmIP2OglmIOvsOxrE43Xw</td>\n",
       "      <td>play</td>\n",
       "    </tr>\n",
       "    <tr>\n",
       "      <th>754598</th>\n",
       "      <td>132742</td>\n",
       "      <td>2023-11-11 05:51:20.858</td>\n",
       "      <td>1297.0</td>\n",
       "      <td>5RmIP2OglmIOvsOxrE43Xw</td>\n",
       "      <td>skip</td>\n",
       "    </tr>\n",
       "    <tr>\n",
       "      <th>754599</th>\n",
       "      <td>132742</td>\n",
       "      <td>2023-11-11 05:51:25.858</td>\n",
       "      <td>1297.0</td>\n",
       "      <td>5BrVJGkFTBPAMRl5hIE9A7</td>\n",
       "      <td>play</td>\n",
       "    </tr>\n",
       "    <tr>\n",
       "      <th>754600</th>\n",
       "      <td>132742</td>\n",
       "      <td>2023-11-11 05:53:29.590</td>\n",
       "      <td>1297.0</td>\n",
       "      <td>5BrVJGkFTBPAMRl5hIE9A7</td>\n",
       "      <td>skip</td>\n",
       "    </tr>\n",
       "    <tr>\n",
       "      <th>754601</th>\n",
       "      <td>132742</td>\n",
       "      <td>2023-11-11 05:53:34.590</td>\n",
       "      <td>1297.0</td>\n",
       "      <td>None</td>\n",
       "      <td>advertisment</td>\n",
       "    </tr>\n",
       "    <tr>\n",
       "      <th>754602</th>\n",
       "      <td>132742</td>\n",
       "      <td>2023-11-11 05:53:34.590</td>\n",
       "      <td>1297.0</td>\n",
       "      <td>67VjdDhTa5jzQxHGe6f26r</td>\n",
       "      <td>play</td>\n",
       "    </tr>\n",
       "    <tr>\n",
       "      <th>754603</th>\n",
       "      <td>132742</td>\n",
       "      <td>2023-11-11 05:58:23.323</td>\n",
       "      <td>1297.0</td>\n",
       "      <td>None</td>\n",
       "      <td>advertisment</td>\n",
       "    </tr>\n",
       "    <tr>\n",
       "      <th>754604</th>\n",
       "      <td>132742</td>\n",
       "      <td>2023-11-11 05:58:23.323</td>\n",
       "      <td>1297.0</td>\n",
       "      <td>2LGdO5MtFdyphi2EihANZG</td>\n",
       "      <td>None</td>\n",
       "    </tr>\n",
       "    <tr>\n",
       "      <th>754605</th>\n",
       "      <td>132742</td>\n",
       "      <td>2023-11-11 06:02:45.886</td>\n",
       "      <td>1297.0</td>\n",
       "      <td>None</td>\n",
       "      <td>advertisment</td>\n",
       "    </tr>\n",
       "    <tr>\n",
       "      <th>754606</th>\n",
       "      <td>132742</td>\n",
       "      <td>2023-11-11 06:02:45.886</td>\n",
       "      <td>1297.0</td>\n",
       "      <td>4TofVhKSYwFXRtbYo5M3h4</td>\n",
       "      <td>play</td>\n",
       "    </tr>\n",
       "    <tr>\n",
       "      <th>754607</th>\n",
       "      <td>132742</td>\n",
       "      <td>2023-11-11 06:05:50.219</td>\n",
       "      <td>1297.0</td>\n",
       "      <td>None</td>\n",
       "      <td>advertisment</td>\n",
       "    </tr>\n",
       "    <tr>\n",
       "      <th>754608</th>\n",
       "      <td>132742</td>\n",
       "      <td>2023-11-11 06:05:50.219</td>\n",
       "      <td>1297.0</td>\n",
       "      <td>0gatssZ0J7pMAlvFCGZZGH</td>\n",
       "      <td>play</td>\n",
       "    </tr>\n",
       "    <tr>\n",
       "      <th>754609</th>\n",
       "      <td>132742</td>\n",
       "      <td>2023-11-11 06:08:57.592</td>\n",
       "      <td>1297.0</td>\n",
       "      <td>3Ys2PYl1wyPKQIwyqhP9cQ</td>\n",
       "      <td>play</td>\n",
       "    </tr>\n",
       "    <tr>\n",
       "      <th>754610</th>\n",
       "      <td>132742</td>\n",
       "      <td>2023-11-11 06:10:45.999</td>\n",
       "      <td>1297.0</td>\n",
       "      <td>3Ys2PYl1wyPKQIwyqhP9cQ</td>\n",
       "      <td>skip</td>\n",
       "    </tr>\n",
       "    <tr>\n",
       "      <th>754611</th>\n",
       "      <td>132742</td>\n",
       "      <td>2023-11-11 06:10:50.999</td>\n",
       "      <td>1297.0</td>\n",
       "      <td>None</td>\n",
       "      <td>advertisment</td>\n",
       "    </tr>\n",
       "    <tr>\n",
       "      <th>754612</th>\n",
       "      <td>132742</td>\n",
       "      <td>2023-11-11 06:10:50.999</td>\n",
       "      <td>1297.0</td>\n",
       "      <td>3dsvRFQ7YWkNBH8GTPwf7Q</td>\n",
       "      <td>play</td>\n",
       "    </tr>\n",
       "    <tr>\n",
       "      <th>754613</th>\n",
       "      <td>132742</td>\n",
       "      <td>2023-11-11 06:11:15.400</td>\n",
       "      <td>1297.0</td>\n",
       "      <td>3dsvRFQ7YWkNBH8GTPwf7Q</td>\n",
       "      <td>like</td>\n",
       "    </tr>\n",
       "    <tr>\n",
       "      <th>754614</th>\n",
       "      <td>132742</td>\n",
       "      <td>2023-11-11 06:13:39.490</td>\n",
       "      <td>NaN</td>\n",
       "      <td>3dsvRFQ7YWkNBH8GTPwf7Q</td>\n",
       "      <td>skip</td>\n",
       "    </tr>\n",
       "    <tr>\n",
       "      <th>754615</th>\n",
       "      <td>132742</td>\n",
       "      <td>2023-11-11 06:13:40.490</td>\n",
       "      <td>1297.0</td>\n",
       "      <td>5p7GiBZNL1afJJDUrOA6C8</td>\n",
       "      <td>play</td>\n",
       "    </tr>\n",
       "    <tr>\n",
       "      <th>754616</th>\n",
       "      <td>132742</td>\n",
       "      <td>2023-11-11 06:15:40.878</td>\n",
       "      <td>1297.0</td>\n",
       "      <td>None</td>\n",
       "      <td>None</td>\n",
       "    </tr>\n",
       "    <tr>\n",
       "      <th>754617</th>\n",
       "      <td>132742</td>\n",
       "      <td>2023-11-11 06:15:45.878</td>\n",
       "      <td>1297.0</td>\n",
       "      <td>5CdX4HXMRxyldTVxXDrzSA</td>\n",
       "      <td>play</td>\n",
       "    </tr>\n",
       "    <tr>\n",
       "      <th>754618</th>\n",
       "      <td>132742</td>\n",
       "      <td>2023-11-11 06:17:36.052</td>\n",
       "      <td>1297.0</td>\n",
       "      <td>None</td>\n",
       "      <td>advertisment</td>\n",
       "    </tr>\n",
       "    <tr>\n",
       "      <th>754619</th>\n",
       "      <td>132742</td>\n",
       "      <td>2023-11-11 06:17:36.052</td>\n",
       "      <td>1297.0</td>\n",
       "      <td>5CdX4HXMRxyldTVxXDrzSA</td>\n",
       "      <td>like</td>\n",
       "    </tr>\n",
       "    <tr>\n",
       "      <th>754620</th>\n",
       "      <td>132742</td>\n",
       "      <td>2023-11-11 06:19:30.411</td>\n",
       "      <td>1297.0</td>\n",
       "      <td>0axUHkhMMY0YSC1jFBVWqv</td>\n",
       "      <td>play</td>\n",
       "    </tr>\n",
       "    <tr>\n",
       "      <th>754621</th>\n",
       "      <td>132742</td>\n",
       "      <td>2023-11-11 06:20:41.942</td>\n",
       "      <td>1297.0</td>\n",
       "      <td>None</td>\n",
       "      <td>like</td>\n",
       "    </tr>\n",
       "    <tr>\n",
       "      <th>754622</th>\n",
       "      <td>132742</td>\n",
       "      <td>2023-11-11 06:22:53.958</td>\n",
       "      <td>1297.0</td>\n",
       "      <td>70fVcEP5pRrxaIICY3DcPe</td>\n",
       "      <td>play</td>\n",
       "    </tr>\n",
       "    <tr>\n",
       "      <th>754623</th>\n",
       "      <td>132742</td>\n",
       "      <td>2023-11-11 06:26:04.438</td>\n",
       "      <td>1297.0</td>\n",
       "      <td>None</td>\n",
       "      <td>advertisment</td>\n",
       "    </tr>\n",
       "  </tbody>\n",
       "</table>\n",
       "</div>"
      ],
      "text/plain": [
       "        session_id               timestamp  user_id                track_id  \\\n",
       "754597      132742 2023-11-11 05:49:53.000   1297.0  5RmIP2OglmIOvsOxrE43Xw   \n",
       "754598      132742 2023-11-11 05:51:20.858   1297.0  5RmIP2OglmIOvsOxrE43Xw   \n",
       "754599      132742 2023-11-11 05:51:25.858   1297.0  5BrVJGkFTBPAMRl5hIE9A7   \n",
       "754600      132742 2023-11-11 05:53:29.590   1297.0  5BrVJGkFTBPAMRl5hIE9A7   \n",
       "754601      132742 2023-11-11 05:53:34.590   1297.0                    None   \n",
       "754602      132742 2023-11-11 05:53:34.590   1297.0  67VjdDhTa5jzQxHGe6f26r   \n",
       "754603      132742 2023-11-11 05:58:23.323   1297.0                    None   \n",
       "754604      132742 2023-11-11 05:58:23.323   1297.0  2LGdO5MtFdyphi2EihANZG   \n",
       "754605      132742 2023-11-11 06:02:45.886   1297.0                    None   \n",
       "754606      132742 2023-11-11 06:02:45.886   1297.0  4TofVhKSYwFXRtbYo5M3h4   \n",
       "754607      132742 2023-11-11 06:05:50.219   1297.0                    None   \n",
       "754608      132742 2023-11-11 06:05:50.219   1297.0  0gatssZ0J7pMAlvFCGZZGH   \n",
       "754609      132742 2023-11-11 06:08:57.592   1297.0  3Ys2PYl1wyPKQIwyqhP9cQ   \n",
       "754610      132742 2023-11-11 06:10:45.999   1297.0  3Ys2PYl1wyPKQIwyqhP9cQ   \n",
       "754611      132742 2023-11-11 06:10:50.999   1297.0                    None   \n",
       "754612      132742 2023-11-11 06:10:50.999   1297.0  3dsvRFQ7YWkNBH8GTPwf7Q   \n",
       "754613      132742 2023-11-11 06:11:15.400   1297.0  3dsvRFQ7YWkNBH8GTPwf7Q   \n",
       "754614      132742 2023-11-11 06:13:39.490      NaN  3dsvRFQ7YWkNBH8GTPwf7Q   \n",
       "754615      132742 2023-11-11 06:13:40.490   1297.0  5p7GiBZNL1afJJDUrOA6C8   \n",
       "754616      132742 2023-11-11 06:15:40.878   1297.0                    None   \n",
       "754617      132742 2023-11-11 06:15:45.878   1297.0  5CdX4HXMRxyldTVxXDrzSA   \n",
       "754618      132742 2023-11-11 06:17:36.052   1297.0                    None   \n",
       "754619      132742 2023-11-11 06:17:36.052   1297.0  5CdX4HXMRxyldTVxXDrzSA   \n",
       "754620      132742 2023-11-11 06:19:30.411   1297.0  0axUHkhMMY0YSC1jFBVWqv   \n",
       "754621      132742 2023-11-11 06:20:41.942   1297.0                    None   \n",
       "754622      132742 2023-11-11 06:22:53.958   1297.0  70fVcEP5pRrxaIICY3DcPe   \n",
       "754623      132742 2023-11-11 06:26:04.438   1297.0                    None   \n",
       "\n",
       "          event_type  \n",
       "754597          play  \n",
       "754598          skip  \n",
       "754599          play  \n",
       "754600          skip  \n",
       "754601  advertisment  \n",
       "754602          play  \n",
       "754603  advertisment  \n",
       "754604          None  \n",
       "754605  advertisment  \n",
       "754606          play  \n",
       "754607  advertisment  \n",
       "754608          play  \n",
       "754609          play  \n",
       "754610          skip  \n",
       "754611  advertisment  \n",
       "754612          play  \n",
       "754613          like  \n",
       "754614          skip  \n",
       "754615          play  \n",
       "754616          None  \n",
       "754617          play  \n",
       "754618  advertisment  \n",
       "754619          like  \n",
       "754620          play  \n",
       "754621          like  \n",
       "754622          play  \n",
       "754623  advertisment  "
      ]
     },
     "execution_count": 72,
     "metadata": {},
     "output_type": "execute_result"
    }
   ],
   "source": [
    "sessions_df[sessions_df['session_id'] == 132742].sort_values(by='timestamp')"
   ]
  },
  {
   "cell_type": "code",
   "execution_count": 5,
   "outputs": [
    {
     "data": {
      "text/plain": "                 track_id storage_class  daily_cost\n0  0RNxWy0PC3AyH4ThH3aGK6          slow    0.010073\n1  2W889aLIKxULEefrleFBFI          slow    0.009900\n2  4Pnzw1nLOpDNV6MKI5ueIR          slow    0.009950\n3  7GLmfKOe5BfOXk7334DoKt          slow    0.008150\n4  6kD1SNGPkfX9LwaGd1FG92          slow    0.009309",
      "text/html": "<div>\n<style scoped>\n    .dataframe tbody tr th:only-of-type {\n        vertical-align: middle;\n    }\n\n    .dataframe tbody tr th {\n        vertical-align: top;\n    }\n\n    .dataframe thead th {\n        text-align: right;\n    }\n</style>\n<table border=\"1\" class=\"dataframe\">\n  <thead>\n    <tr style=\"text-align: right;\">\n      <th></th>\n      <th>track_id</th>\n      <th>storage_class</th>\n      <th>daily_cost</th>\n    </tr>\n  </thead>\n  <tbody>\n    <tr>\n      <th>0</th>\n      <td>0RNxWy0PC3AyH4ThH3aGK6</td>\n      <td>slow</td>\n      <td>0.010073</td>\n    </tr>\n    <tr>\n      <th>1</th>\n      <td>2W889aLIKxULEefrleFBFI</td>\n      <td>slow</td>\n      <td>0.009900</td>\n    </tr>\n    <tr>\n      <th>2</th>\n      <td>4Pnzw1nLOpDNV6MKI5ueIR</td>\n      <td>slow</td>\n      <td>0.009950</td>\n    </tr>\n    <tr>\n      <th>3</th>\n      <td>7GLmfKOe5BfOXk7334DoKt</td>\n      <td>slow</td>\n      <td>0.008150</td>\n    </tr>\n    <tr>\n      <th>4</th>\n      <td>6kD1SNGPkfX9LwaGd1FG92</td>\n      <td>slow</td>\n      <td>0.009309</td>\n    </tr>\n  </tbody>\n</table>\n</div>"
     },
     "execution_count": 5,
     "metadata": {},
     "output_type": "execute_result"
    }
   ],
   "source": [
    "track_storage_df.head()"
   ],
   "metadata": {
    "collapsed": false
   }
  },
  {
   "cell_type": "code",
   "execution_count": 11,
   "outputs": [
    {
     "name": "stdout",
     "output_type": "stream",
     "text": [
      "session_id         0\n",
      "timestamp          0\n",
      "user_id        37870\n",
      "track_id      135409\n",
      "event_type     38047\n",
      "dtype: int64 (759425, 5)\n"
     ]
    }
   ],
   "source": [
    "print(sessions_df.isna().sum(), sessions_df.shape)"
   ],
   "metadata": {
    "collapsed": false
   }
  }
 ],
 "metadata": {
  "kernelspec": {
   "display_name": "venv",
   "language": "python",
   "name": "python3"
  },
  "language_info": {
   "codemirror_mode": {
    "name": "ipython",
    "version": 3
   },
   "file_extension": ".py",
   "mimetype": "text/x-python",
   "name": "python",
   "nbconvert_exporter": "python",
   "pygments_lexer": "ipython3",
   "version": "3.10.1"
  }
 },
 "nbformat": 4,
 "nbformat_minor": 2
}
