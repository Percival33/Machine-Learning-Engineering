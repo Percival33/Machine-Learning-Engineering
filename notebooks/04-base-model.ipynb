{
 "cells": [
  {
   "cell_type": "code",
   "execution_count": 4,
   "outputs": [
    {
     "data": {
      "text/plain": "                     track_id                      genre  popularity\n0      0RNxWy0PC3AyH4ThH3aGK6            adult standards          55\n1      0RNxWy0PC3AyH4ThH3aGK6                  dixieland          55\n2      0RNxWy0PC3AyH4ThH3aGK6         harlem renaissance          55\n3      0RNxWy0PC3AyH4ThH3aGK6               jazz trumpet          55\n4      0RNxWy0PC3AyH4ThH3aGK6           new orleans jazz          55\n...                       ...                        ...         ...\n90684  1Ca2ELRlvACAeI7xz9c9jR                  pop dance          54\n90685  1Ca2ELRlvACAeI7xz9c9jR  progressive electro house          54\n90686  1Ca2ELRlvACAeI7xz9c9jR          progressive house          54\n90687  1Ca2ELRlvACAeI7xz9c9jR             tropical house          54\n90688  0XwXxgC5qyCF6PoyAREAzK                pet calming          56\n\n[90689 rows x 3 columns]",
      "text/html": "<div>\n<style scoped>\n    .dataframe tbody tr th:only-of-type {\n        vertical-align: middle;\n    }\n\n    .dataframe tbody tr th {\n        vertical-align: top;\n    }\n\n    .dataframe thead th {\n        text-align: right;\n    }\n</style>\n<table border=\"1\" class=\"dataframe\">\n  <thead>\n    <tr style=\"text-align: right;\">\n      <th></th>\n      <th>track_id</th>\n      <th>genre</th>\n      <th>popularity</th>\n    </tr>\n  </thead>\n  <tbody>\n    <tr>\n      <th>0</th>\n      <td>0RNxWy0PC3AyH4ThH3aGK6</td>\n      <td>adult standards</td>\n      <td>55</td>\n    </tr>\n    <tr>\n      <th>1</th>\n      <td>0RNxWy0PC3AyH4ThH3aGK6</td>\n      <td>dixieland</td>\n      <td>55</td>\n    </tr>\n    <tr>\n      <th>2</th>\n      <td>0RNxWy0PC3AyH4ThH3aGK6</td>\n      <td>harlem renaissance</td>\n      <td>55</td>\n    </tr>\n    <tr>\n      <th>3</th>\n      <td>0RNxWy0PC3AyH4ThH3aGK6</td>\n      <td>jazz trumpet</td>\n      <td>55</td>\n    </tr>\n    <tr>\n      <th>4</th>\n      <td>0RNxWy0PC3AyH4ThH3aGK6</td>\n      <td>new orleans jazz</td>\n      <td>55</td>\n    </tr>\n    <tr>\n      <th>...</th>\n      <td>...</td>\n      <td>...</td>\n      <td>...</td>\n    </tr>\n    <tr>\n      <th>90684</th>\n      <td>1Ca2ELRlvACAeI7xz9c9jR</td>\n      <td>pop dance</td>\n      <td>54</td>\n    </tr>\n    <tr>\n      <th>90685</th>\n      <td>1Ca2ELRlvACAeI7xz9c9jR</td>\n      <td>progressive electro house</td>\n      <td>54</td>\n    </tr>\n    <tr>\n      <th>90686</th>\n      <td>1Ca2ELRlvACAeI7xz9c9jR</td>\n      <td>progressive house</td>\n      <td>54</td>\n    </tr>\n    <tr>\n      <th>90687</th>\n      <td>1Ca2ELRlvACAeI7xz9c9jR</td>\n      <td>tropical house</td>\n      <td>54</td>\n    </tr>\n    <tr>\n      <th>90688</th>\n      <td>0XwXxgC5qyCF6PoyAREAzK</td>\n      <td>pet calming</td>\n      <td>56</td>\n    </tr>\n  </tbody>\n</table>\n<p>90689 rows × 3 columns</p>\n</div>"
     },
     "execution_count": 4,
     "metadata": {},
     "output_type": "execute_result"
    }
   ],
   "source": [
    "import pandas as pd\n",
    "import os\n",
    "file_path = os.path.abspath(os.path.join(\".\", \"..\", \"data\", \"processed\", \"exploded_genres_with_popularity.jsonl\"))\n",
    "\n",
    "df = pd.read_json(file_path, orient='records', lines=True)\n",
    "df"
   ],
   "metadata": {
    "collapsed": false
   }
  },
  {
   "cell_type": "code",
   "execution_count": 3,
   "outputs": [
    {
     "data": {
      "text/plain": "                   genre  count\n22                   pop   4694\n31                  rock   3925\n8              dance pop   2759\n25         post-teen pop   2332\n13                 latin   2048\n4           classic rock   1807\n15             latin pop   1672\n21        permanent wave   1418\n18           modern rock   1385\n28                   rap   1346\n16           mellow gold   1216\n1             album rock   1213\n33             soft rock   1194\n30      regional mexican   1180\n2      alternative metal   1151\n24              pop rock   1100\n23               pop rap   1086\n11               hip hop   1085\n20              nu metal    955\n27              ranchera    938\n10             hard rock    911\n3       alternative rock    776\n35              tropical    767\n6                corrido    762\n34           trap latino    755\n17           mexican pop    628\n32       rock en espanol    621\n12                 k-pop    613\n5   contemporary country    611\n29             reggaeton    609\n9             electropop    609\n7                country    593\n26                   r&b    592\n19            neo mellow    570\n36    urban contemporary    542\n14       latin arena pop    532\n0        adult standards    510",
      "text/html": "<div>\n<style scoped>\n    .dataframe tbody tr th:only-of-type {\n        vertical-align: middle;\n    }\n\n    .dataframe tbody tr th {\n        vertical-align: top;\n    }\n\n    .dataframe thead th {\n        text-align: right;\n    }\n</style>\n<table border=\"1\" class=\"dataframe\">\n  <thead>\n    <tr style=\"text-align: right;\">\n      <th></th>\n      <th>genre</th>\n      <th>count</th>\n    </tr>\n  </thead>\n  <tbody>\n    <tr>\n      <th>22</th>\n      <td>pop</td>\n      <td>4694</td>\n    </tr>\n    <tr>\n      <th>31</th>\n      <td>rock</td>\n      <td>3925</td>\n    </tr>\n    <tr>\n      <th>8</th>\n      <td>dance pop</td>\n      <td>2759</td>\n    </tr>\n    <tr>\n      <th>25</th>\n      <td>post-teen pop</td>\n      <td>2332</td>\n    </tr>\n    <tr>\n      <th>13</th>\n      <td>latin</td>\n      <td>2048</td>\n    </tr>\n    <tr>\n      <th>4</th>\n      <td>classic rock</td>\n      <td>1807</td>\n    </tr>\n    <tr>\n      <th>15</th>\n      <td>latin pop</td>\n      <td>1672</td>\n    </tr>\n    <tr>\n      <th>21</th>\n      <td>permanent wave</td>\n      <td>1418</td>\n    </tr>\n    <tr>\n      <th>18</th>\n      <td>modern rock</td>\n      <td>1385</td>\n    </tr>\n    <tr>\n      <th>28</th>\n      <td>rap</td>\n      <td>1346</td>\n    </tr>\n    <tr>\n      <th>16</th>\n      <td>mellow gold</td>\n      <td>1216</td>\n    </tr>\n    <tr>\n      <th>1</th>\n      <td>album rock</td>\n      <td>1213</td>\n    </tr>\n    <tr>\n      <th>33</th>\n      <td>soft rock</td>\n      <td>1194</td>\n    </tr>\n    <tr>\n      <th>30</th>\n      <td>regional mexican</td>\n      <td>1180</td>\n    </tr>\n    <tr>\n      <th>2</th>\n      <td>alternative metal</td>\n      <td>1151</td>\n    </tr>\n    <tr>\n      <th>24</th>\n      <td>pop rock</td>\n      <td>1100</td>\n    </tr>\n    <tr>\n      <th>23</th>\n      <td>pop rap</td>\n      <td>1086</td>\n    </tr>\n    <tr>\n      <th>11</th>\n      <td>hip hop</td>\n      <td>1085</td>\n    </tr>\n    <tr>\n      <th>20</th>\n      <td>nu metal</td>\n      <td>955</td>\n    </tr>\n    <tr>\n      <th>27</th>\n      <td>ranchera</td>\n      <td>938</td>\n    </tr>\n    <tr>\n      <th>10</th>\n      <td>hard rock</td>\n      <td>911</td>\n    </tr>\n    <tr>\n      <th>3</th>\n      <td>alternative rock</td>\n      <td>776</td>\n    </tr>\n    <tr>\n      <th>35</th>\n      <td>tropical</td>\n      <td>767</td>\n    </tr>\n    <tr>\n      <th>6</th>\n      <td>corrido</td>\n      <td>762</td>\n    </tr>\n    <tr>\n      <th>34</th>\n      <td>trap latino</td>\n      <td>755</td>\n    </tr>\n    <tr>\n      <th>17</th>\n      <td>mexican pop</td>\n      <td>628</td>\n    </tr>\n    <tr>\n      <th>32</th>\n      <td>rock en espanol</td>\n      <td>621</td>\n    </tr>\n    <tr>\n      <th>12</th>\n      <td>k-pop</td>\n      <td>613</td>\n    </tr>\n    <tr>\n      <th>5</th>\n      <td>contemporary country</td>\n      <td>611</td>\n    </tr>\n    <tr>\n      <th>29</th>\n      <td>reggaeton</td>\n      <td>609</td>\n    </tr>\n    <tr>\n      <th>9</th>\n      <td>electropop</td>\n      <td>609</td>\n    </tr>\n    <tr>\n      <th>7</th>\n      <td>country</td>\n      <td>593</td>\n    </tr>\n    <tr>\n      <th>26</th>\n      <td>r&amp;b</td>\n      <td>592</td>\n    </tr>\n    <tr>\n      <th>19</th>\n      <td>neo mellow</td>\n      <td>570</td>\n    </tr>\n    <tr>\n      <th>36</th>\n      <td>urban contemporary</td>\n      <td>542</td>\n    </tr>\n    <tr>\n      <th>14</th>\n      <td>latin arena pop</td>\n      <td>532</td>\n    </tr>\n    <tr>\n      <th>0</th>\n      <td>adult standards</td>\n      <td>510</td>\n    </tr>\n  </tbody>\n</table>\n</div>"
     },
     "execution_count": 3,
     "metadata": {},
     "output_type": "execute_result"
    }
   ],
   "source": [
    "genre_counts = df.groupby('genre').size()\n",
    "popular_genres = pd.DataFrame(genre_counts[genre_counts > 500]).reset_index()\n",
    "popular_genres.columns = ['genre', 'count']\n",
    "popular_genres.sort_values(by='count', ascending=False)"
   ],
   "metadata": {
    "collapsed": false
   }
  },
  {
   "cell_type": "code",
   "execution_count": 1,
   "outputs": [],
   "source": [
    "import pandas as pd\n",
    "import os\n",
    "\n",
    "from src.models.ABCSolver import AbstractSolver\n",
    "\n",
    "# DATA_FOLDER = os.path.join(os.path.abspath(__file__), \"..\", \"..\", \"data\", \"processed\")\n",
    "\n",
    "\n",
    "class BaseModel(AbstractSolver):\n",
    "    def __init__(self):\n",
    "        \"\"\"\n",
    "        data must consist track_id, genre and popularity\n",
    "        \"\"\"\n",
    "        self.parameters = {\n",
    "            'songs_in_genre': 500,\n",
    "            'playlist_limit': 20\n",
    "        }\n",
    "\n",
    "    def fit(self, X, y) -> None:\n",
    "        pass\n",
    "\n",
    "    def get_parameters(self):\n",
    "        \"\"\"\n",
    "        no hyperparameters as it is a base model which predicts playlists based on genre and popularity indicator\n",
    "        \"\"\"\n",
    "        return self.parameters\n",
    "\n",
    "    def predict(self, X):\n",
    "        try:\n",
    "            X = pd.DataFrame(X)\n",
    "            genre_counts = X.groupby('genre').size()\n",
    "            popular_genres = pd.DataFrame(genre_counts[genre_counts > self.parameters['songs_in_genre']])\n",
    "            print(popular_genres)\n",
    "            print(popular_genres)\n",
    "        except KeyError:\n",
    "            print(\"No column named 'genre'\")"
   ],
   "metadata": {
    "collapsed": false
   }
  },
  {
   "cell_type": "code",
   "execution_count": 11,
   "outputs": [],
   "source": [
    "from dataclasses import dataclass, field\n",
    "\n",
    "@dataclass(frozen=True)\n",
    "class Track:\n",
    "    track_id: str\n",
    "    popularity: int\n",
    "\n",
    "@dataclass\n",
    "class Playlist:\n",
    "    tracks: list[Track] = field(default_factory=list)\n",
    "    size: int = 0\n",
    "    sum: int = 0\n",
    "    min: int = float('inf')\n",
    "    max: int = float('-inf')\n",
    "    mean: float = 0.0\n",
    "    MAX_SIZE: int = 20\n",
    "\n",
    "    def limit(self):\n",
    "        if self.size <= self.MAX_SIZE:\n",
    "            return\n",
    "\n",
    "        min_popularity_track = min(self.tracks, key=lambda x: x.popularity)\n",
    "        self.tracks.remove(min_popularity_track)\n",
    "\n",
    "        # Update size and sum\n",
    "        self.size -= 1\n",
    "        self.sum -= min_popularity_track.popularity\n",
    "\n",
    "        # Recalculate min, max, and mean\n",
    "        if self.tracks:\n",
    "            self.min = min(track.popularity for track in self.tracks)\n",
    "            self.max = max(track.popularity for track in self.tracks)\n",
    "            self.mean = self.sum / self.size\n",
    "        else:\n",
    "            self.min = float('inf')\n",
    "            self.max = float('-inf')\n",
    "            self.mean = 0\n",
    "\n",
    "    def append(self, current_track: Track):\n",
    "        self.tracks.append(current_track)\n",
    "        self.size += 1\n",
    "        self.sum += current_track.popularity\n",
    "        self.min = min(self.min, current_track.popularity)\n",
    "        self.max = max(self.max, current_track.popularity)\n",
    "        self.mean = self.sum / self.size\n",
    "        self.limit()\n",
    "\n",
    "\n",
    "\n",
    "def predict(data):\n",
    "    data = data.sort_values(by='popularity', ascending=False)\n",
    "    genres = {}\n",
    "\n",
    "    for _, row in data.iterrows():\n",
    "        track_id, genre, popularity = row\n",
    "        if not genre in genres:\n",
    "            genres[genre] = Playlist()\n",
    "        genres[genre].append(Track(track_id, popularity))\n",
    "\n",
    "    sorted_playlists = sorted(genres.items(), key=lambda x: x[1].mean, reverse=True)\n",
    "    top_5 = sorted_playlists[:5]\n",
    "    top_5_dict = {genre: playlist for genre, playlist in top_5}\n",
    "\n",
    "    return top_5_dict\n",
    "\n"
   ],
   "metadata": {
    "collapsed": false
   }
  },
  {
   "cell_type": "code",
   "execution_count": 12,
   "outputs": [
    {
     "name": "stdout",
     "output_type": "stream",
     "text": [
      "Genre: pop\n",
      "  Size: 20\n",
      "  Sum: 1856\n",
      "  Min Popularity: 90\n",
      "  Max Popularity: 99\n",
      "  Mean Popularity: 92.80\n",
      "------------------------------\n",
      "Genre: post-teen pop\n",
      "  Size: 20\n",
      "  Sum: 1788\n",
      "  Min Popularity: 85\n",
      "  Max Popularity: 99\n",
      "  Mean Popularity: 89.40\n",
      "------------------------------\n",
      "Genre: dance pop\n",
      "  Size: 20\n",
      "  Sum: 1736\n",
      "  Min Popularity: 84\n",
      "  Max Popularity: 95\n",
      "  Mean Popularity: 86.80\n",
      "------------------------------\n",
      "Genre: pop rap\n",
      "  Size: 20\n",
      "  Sum: 1730\n",
      "  Min Popularity: 83\n",
      "  Max Popularity: 94\n",
      "  Mean Popularity: 86.50\n",
      "------------------------------\n",
      "Genre: canadian pop\n",
      "  Size: 20\n",
      "  Sum: 1725\n",
      "  Min Popularity: 82\n",
      "  Max Popularity: 97\n",
      "  Mean Popularity: 86.25\n",
      "------------------------------\n",
      "70\n"
     ]
    }
   ],
   "source": [
    "res = predict(df)\n",
    "unique_songs = set()\n",
    "\n",
    "for genre, playlist in res.items():\n",
    "    print(f\"Genre: {genre}\")\n",
    "    print(f\"  Size: {playlist.size}\")\n",
    "    print(f\"  Sum: {playlist.sum}\")\n",
    "    print(f\"  Min Popularity: {playlist.min}\")\n",
    "    print(f\"  Max Popularity: {playlist.max}\")\n",
    "    print(f\"  Mean Popularity: {playlist.mean:.2f}\")\n",
    "    # print(f\"  Playlist: {playlist}\")\n",
    "    print(\"-\" * 30)\n",
    "\n",
    "    for track in playlist.tracks:\n",
    "        unique_songs.add(track)\n",
    "\n",
    "\n",
    "print(len(unique_songs))"
   ],
   "metadata": {
    "collapsed": false
   }
  }
 ],
 "metadata": {
  "kernelspec": {
   "display_name": "Python 3",
   "language": "python",
   "name": "python3"
  },
  "language_info": {
   "codemirror_mode": {
    "name": "ipython",
    "version": 2
   },
   "file_extension": ".py",
   "mimetype": "text/x-python",
   "name": "python",
   "nbconvert_exporter": "python",
   "pygments_lexer": "ipython2",
   "version": "2.7.6"
  }
 },
 "nbformat": 4,
 "nbformat_minor": 0
}
