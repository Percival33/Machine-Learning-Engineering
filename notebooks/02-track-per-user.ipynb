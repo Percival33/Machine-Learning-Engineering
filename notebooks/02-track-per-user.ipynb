{
 "cells": [
  {
   "cell_type": "code",
   "execution_count": 1,
   "metadata": {
    "collapsed": true
   },
   "outputs": [
    {
     "data": {
      "text/plain": "(Index(['id', 'name', 'popularity', 'duration_ms', 'explicit', 'id_artist',\n        'release_date', 'danceability', 'energy', 'key', 'loudness',\n        'speechiness', 'acousticness', 'instrumentalness', 'liveness',\n        'valence', 'tempo'],\n       dtype='object'),\n Index(['user_id', 'name', 'city', 'street', 'favourite_genres', 'premium_user',\n        'id'],\n       dtype='object'),\n Index(['session_id', 'timestamp', 'user_id', 'track_id', 'event_type'], dtype='object'))"
     },
     "execution_count": 1,
     "metadata": {},
     "output_type": "execute_result"
    }
   ],
   "source": [
    "import pandas as pd\n",
    "\n",
    "tracks_df = pd.read_json('./../data/raw/05_02_v1/tracks.jsonl', lines=True)\n",
    "users_df = pd.read_json('./../data/raw/05_02_v1/users.jsonl', lines=True)\n",
    "session_df = pd.read_json('./../data/raw/05_02_v1/sessions.jsonl', lines=True)\n",
    "\n",
    "tracks_df.columns, users_df.columns, session_df.columns"
   ]
  },
  {
   "cell_type": "code",
   "execution_count": 26,
   "outputs": [
    {
     "data": {
      "text/plain": "                           id                              name  popularity  \\\n19295  40f52Y5P5PDfAxu2P3iI3c  A Gente Não Se Aguenta - Ao Vivo        53.0   \n\n       duration_ms  explicit               id_artist release_date  \\\n19295       148280         0  1yR65psqiazQpeM79CcGh8   2017-03-06   \n\n       danceability  energy  key  loudness  speechiness  acousticness  \\\n19295          0.67   0.862   11    -5.438       0.0496         0.224   \n\n       instrumentalness  liveness  valence    tempo  \n19295          0.000002      0.32    0.931  172.076  ",
      "text/html": "<div>\n<style scoped>\n    .dataframe tbody tr th:only-of-type {\n        vertical-align: middle;\n    }\n\n    .dataframe tbody tr th {\n        vertical-align: top;\n    }\n\n    .dataframe thead th {\n        text-align: right;\n    }\n</style>\n<table border=\"1\" class=\"dataframe\">\n  <thead>\n    <tr style=\"text-align: right;\">\n      <th></th>\n      <th>id</th>\n      <th>name</th>\n      <th>popularity</th>\n      <th>duration_ms</th>\n      <th>explicit</th>\n      <th>id_artist</th>\n      <th>release_date</th>\n      <th>danceability</th>\n      <th>energy</th>\n      <th>key</th>\n      <th>loudness</th>\n      <th>speechiness</th>\n      <th>acousticness</th>\n      <th>instrumentalness</th>\n      <th>liveness</th>\n      <th>valence</th>\n      <th>tempo</th>\n    </tr>\n  </thead>\n  <tbody>\n    <tr>\n      <th>19295</th>\n      <td>40f52Y5P5PDfAxu2P3iI3c</td>\n      <td>A Gente Não Se Aguenta - Ao Vivo</td>\n      <td>53.0</td>\n      <td>148280</td>\n      <td>0</td>\n      <td>1yR65psqiazQpeM79CcGh8</td>\n      <td>2017-03-06</td>\n      <td>0.67</td>\n      <td>0.862</td>\n      <td>11</td>\n      <td>-5.438</td>\n      <td>0.0496</td>\n      <td>0.224</td>\n      <td>0.000002</td>\n      <td>0.32</td>\n      <td>0.931</td>\n      <td>172.076</td>\n    </tr>\n  </tbody>\n</table>\n</div>"
     },
     "execution_count": 26,
     "metadata": {},
     "output_type": "execute_result"
    }
   ],
   "source": [
    "tracks_df[tracks_df['id'] == '40f52Y5P5PDfAxu2P3iI3c']"
   ],
   "metadata": {
    "collapsed": false
   }
  },
  {
   "cell_type": "code",
   "execution_count": 29,
   "outputs": [
    {
     "data": {
      "text/plain": "   session_id               timestamp  user_id                track_id  \\\n6         126 2022-11-15 09:03:03.000   1543.0  0qd52rGwvXWGK2qyqhuoXl   \n7         126 2022-11-15 09:04:31.861   1543.0  0qd52rGwvXWGK2qyqhuoXl   \n8         126 2022-11-15 09:05:15.744   1543.0  0qd52rGwvXWGK2qyqhuoXl   \n9         126 2022-11-15 09:05:16.744   1543.0  5HBDBBr5OV90lubqW8ctJF   \n\n  event_type  \n6       play  \n7       like  \n8       skip  \n9       play  ",
      "text/html": "<div>\n<style scoped>\n    .dataframe tbody tr th:only-of-type {\n        vertical-align: middle;\n    }\n\n    .dataframe tbody tr th {\n        vertical-align: top;\n    }\n\n    .dataframe thead th {\n        text-align: right;\n    }\n</style>\n<table border=\"1\" class=\"dataframe\">\n  <thead>\n    <tr style=\"text-align: right;\">\n      <th></th>\n      <th>session_id</th>\n      <th>timestamp</th>\n      <th>user_id</th>\n      <th>track_id</th>\n      <th>event_type</th>\n    </tr>\n  </thead>\n  <tbody>\n    <tr>\n      <th>6</th>\n      <td>126</td>\n      <td>2022-11-15 09:03:03.000</td>\n      <td>1543.0</td>\n      <td>0qd52rGwvXWGK2qyqhuoXl</td>\n      <td>play</td>\n    </tr>\n    <tr>\n      <th>7</th>\n      <td>126</td>\n      <td>2022-11-15 09:04:31.861</td>\n      <td>1543.0</td>\n      <td>0qd52rGwvXWGK2qyqhuoXl</td>\n      <td>like</td>\n    </tr>\n    <tr>\n      <th>8</th>\n      <td>126</td>\n      <td>2022-11-15 09:05:15.744</td>\n      <td>1543.0</td>\n      <td>0qd52rGwvXWGK2qyqhuoXl</td>\n      <td>skip</td>\n    </tr>\n    <tr>\n      <th>9</th>\n      <td>126</td>\n      <td>2022-11-15 09:05:16.744</td>\n      <td>1543.0</td>\n      <td>5HBDBBr5OV90lubqW8ctJF</td>\n      <td>play</td>\n    </tr>\n  </tbody>\n</table>\n</div>"
     },
     "execution_count": 29,
     "metadata": {},
     "output_type": "execute_result"
    }
   ],
   "source": [
    "# (user_id, track_id, time, retention%)\n",
    "\n",
    "tracks_tmp = tracks_df[['id', 'duration_ms']]\n",
    "session_tmp = session_df[session_df['session_id'] == 126].sort_values(by='timestamp', ascending=True)\n",
    "# session_tmp.join(tracks_tmp)\n",
    "session_tmp"
   ],
   "metadata": {
    "collapsed": false
   }
  },
  {
   "cell_type": "code",
   "execution_count": 35,
   "outputs": [
    {
     "data": {
      "text/plain": "   session_id               timestamp  user_id                track_id  \\\n6         126 2022-11-15 09:03:03.000   1543.0  0qd52rGwvXWGK2qyqhuoXl   \n7         126 2022-11-15 09:04:31.861   1543.0  0qd52rGwvXWGK2qyqhuoXl   \n8         126 2022-11-15 09:05:15.744   1543.0  0qd52rGwvXWGK2qyqhuoXl   \n9         126 2022-11-15 09:05:16.744   1543.0  5HBDBBr5OV90lubqW8ctJF   \n\n  event_type   length  \n6       play      NaN  \n7       like  88861.0  \n8       skip  43883.0  \n9       play   1000.0  ",
      "text/html": "<div>\n<style scoped>\n    .dataframe tbody tr th:only-of-type {\n        vertical-align: middle;\n    }\n\n    .dataframe tbody tr th {\n        vertical-align: top;\n    }\n\n    .dataframe thead th {\n        text-align: right;\n    }\n</style>\n<table border=\"1\" class=\"dataframe\">\n  <thead>\n    <tr style=\"text-align: right;\">\n      <th></th>\n      <th>session_id</th>\n      <th>timestamp</th>\n      <th>user_id</th>\n      <th>track_id</th>\n      <th>event_type</th>\n      <th>length</th>\n    </tr>\n  </thead>\n  <tbody>\n    <tr>\n      <th>6</th>\n      <td>126</td>\n      <td>2022-11-15 09:03:03.000</td>\n      <td>1543.0</td>\n      <td>0qd52rGwvXWGK2qyqhuoXl</td>\n      <td>play</td>\n      <td>NaN</td>\n    </tr>\n    <tr>\n      <th>7</th>\n      <td>126</td>\n      <td>2022-11-15 09:04:31.861</td>\n      <td>1543.0</td>\n      <td>0qd52rGwvXWGK2qyqhuoXl</td>\n      <td>like</td>\n      <td>88861.0</td>\n    </tr>\n    <tr>\n      <th>8</th>\n      <td>126</td>\n      <td>2022-11-15 09:05:15.744</td>\n      <td>1543.0</td>\n      <td>0qd52rGwvXWGK2qyqhuoXl</td>\n      <td>skip</td>\n      <td>43883.0</td>\n    </tr>\n    <tr>\n      <th>9</th>\n      <td>126</td>\n      <td>2022-11-15 09:05:16.744</td>\n      <td>1543.0</td>\n      <td>5HBDBBr5OV90lubqW8ctJF</td>\n      <td>play</td>\n      <td>1000.0</td>\n    </tr>\n  </tbody>\n</table>\n</div>"
     },
     "execution_count": 35,
     "metadata": {},
     "output_type": "execute_result"
    }
   ],
   "source": [
    "session_tmp['length'] = pd.to_datetime(session_tmp['timestamp']).diff().dt.total_seconds() * 1000\n",
    "session_tmp"
   ],
   "metadata": {
    "collapsed": false
   }
  },
  {
   "cell_type": "code",
   "execution_count": 34,
   "outputs": [
    {
     "data": {
      "text/plain": "   session_id               timestamp  user_id                track_id  \\\n6         126 2022-11-15 09:03:03.000   1543.0  0qd52rGwvXWGK2qyqhuoXl   \n7         126 2022-11-15 09:04:31.861   1543.0  0qd52rGwvXWGK2qyqhuoXl   \n9         126 2022-11-15 09:05:16.744   1543.0  5HBDBBr5OV90lubqW8ctJF   \n\n  event_type   length  \n6       play      NaN  \n7       like  88861.0  \n9       play   1000.0  ",
      "text/html": "<div>\n<style scoped>\n    .dataframe tbody tr th:only-of-type {\n        vertical-align: middle;\n    }\n\n    .dataframe tbody tr th {\n        vertical-align: top;\n    }\n\n    .dataframe thead th {\n        text-align: right;\n    }\n</style>\n<table border=\"1\" class=\"dataframe\">\n  <thead>\n    <tr style=\"text-align: right;\">\n      <th></th>\n      <th>session_id</th>\n      <th>timestamp</th>\n      <th>user_id</th>\n      <th>track_id</th>\n      <th>event_type</th>\n      <th>length</th>\n    </tr>\n  </thead>\n  <tbody>\n    <tr>\n      <th>6</th>\n      <td>126</td>\n      <td>2022-11-15 09:03:03.000</td>\n      <td>1543.0</td>\n      <td>0qd52rGwvXWGK2qyqhuoXl</td>\n      <td>play</td>\n      <td>NaN</td>\n    </tr>\n    <tr>\n      <th>7</th>\n      <td>126</td>\n      <td>2022-11-15 09:04:31.861</td>\n      <td>1543.0</td>\n      <td>0qd52rGwvXWGK2qyqhuoXl</td>\n      <td>like</td>\n      <td>88861.0</td>\n    </tr>\n    <tr>\n      <th>9</th>\n      <td>126</td>\n      <td>2022-11-15 09:05:16.744</td>\n      <td>1543.0</td>\n      <td>5HBDBBr5OV90lubqW8ctJF</td>\n      <td>play</td>\n      <td>1000.0</td>\n    </tr>\n  </tbody>\n</table>\n</div>"
     },
     "execution_count": 34,
     "metadata": {},
     "output_type": "execute_result"
    }
   ],
   "source": [
    "# session_tmp.drop(session_tmp.index[[2]])"
   ],
   "metadata": {
    "collapsed": false
   }
  }
 ],
 "metadata": {
  "kernelspec": {
   "display_name": "Python 3",
   "language": "python",
   "name": "python3"
  },
  "language_info": {
   "codemirror_mode": {
    "name": "ipython",
    "version": 2
   },
   "file_extension": ".py",
   "mimetype": "text/x-python",
   "name": "python",
   "nbconvert_exporter": "python",
   "pygments_lexer": "ipython2",
   "version": "2.7.6"
  }
 },
 "nbformat": 4,
 "nbformat_minor": 0
}
