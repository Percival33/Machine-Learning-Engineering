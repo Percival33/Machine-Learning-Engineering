{
 "cells": [
  {
   "cell_type": "code",
   "execution_count": 217,
   "metadata": {
    "collapsed": true,
    "ExecuteTime": {
     "end_time": "2023-12-01T19:20:14.742536329Z",
     "start_time": "2023-12-01T19:20:13.170844347Z"
    }
   },
   "outputs": [
    {
     "data": {
      "text/plain": "(Index(['id', 'name', 'popularity', 'duration_ms', 'explicit', 'id_artist',\n        'release_date', 'danceability', 'energy', 'key', 'loudness',\n        'speechiness', 'acousticness', 'instrumentalness', 'liveness',\n        'valence', 'tempo'],\n       dtype='object'),\n Index(['user_id', 'name', 'city', 'street', 'favourite_genres',\n        'premium_user'],\n       dtype='object'),\n Index(['session_id', 'timestamp', 'user_id', 'track_id', 'event_type'], dtype='object'))"
     },
     "execution_count": 217,
     "metadata": {},
     "output_type": "execute_result"
    }
   ],
   "source": [
    "import pandas as pd\n",
    "\n",
    "tracks_df = pd.read_json(\"./../data/raw/05_02_v2/tracks.jsonl\", lines=True)\n",
    "users_df = pd.read_json(\"./../data/raw/05_02_v2/users.jsonl\", lines=True)\n",
    "session_df = pd.read_json(\"./../data/raw/05_02_v2/sessions.jsonl\", lines=True)\n",
    "artists_df = pd.read_json(\"./../data/raw/05_02_v2/artists.jsonl\", lines=True)\n",
    "\n",
    "tracks_df.columns, users_df.columns, session_df.columns"
   ]
  },
  {
   "cell_type": "code",
   "execution_count": 168,
   "outputs": [
    {
     "data": {
      "text/plain": "                           id                              name  popularity  \\\n19295  40f52Y5P5PDfAxu2P3iI3c  A Gente Não Se Aguenta - Ao Vivo          53   \n\n       duration_ms  explicit               id_artist release_date  \\\n19295       148280         0  1yR65psqiazQpeM79CcGh8   2017-03-06   \n\n       danceability  energy  key  loudness  speechiness  acousticness  \\\n19295          0.67   0.862   11    -5.438       0.0496         0.224   \n\n       instrumentalness  liveness  valence    tempo  \n19295          0.000002      0.32    0.931  172.076  ",
      "text/html": "<div>\n<style scoped>\n    .dataframe tbody tr th:only-of-type {\n        vertical-align: middle;\n    }\n\n    .dataframe tbody tr th {\n        vertical-align: top;\n    }\n\n    .dataframe thead th {\n        text-align: right;\n    }\n</style>\n<table border=\"1\" class=\"dataframe\">\n  <thead>\n    <tr style=\"text-align: right;\">\n      <th></th>\n      <th>id</th>\n      <th>name</th>\n      <th>popularity</th>\n      <th>duration_ms</th>\n      <th>explicit</th>\n      <th>id_artist</th>\n      <th>release_date</th>\n      <th>danceability</th>\n      <th>energy</th>\n      <th>key</th>\n      <th>loudness</th>\n      <th>speechiness</th>\n      <th>acousticness</th>\n      <th>instrumentalness</th>\n      <th>liveness</th>\n      <th>valence</th>\n      <th>tempo</th>\n    </tr>\n  </thead>\n  <tbody>\n    <tr>\n      <th>19295</th>\n      <td>40f52Y5P5PDfAxu2P3iI3c</td>\n      <td>A Gente Não Se Aguenta - Ao Vivo</td>\n      <td>53</td>\n      <td>148280</td>\n      <td>0</td>\n      <td>1yR65psqiazQpeM79CcGh8</td>\n      <td>2017-03-06</td>\n      <td>0.67</td>\n      <td>0.862</td>\n      <td>11</td>\n      <td>-5.438</td>\n      <td>0.0496</td>\n      <td>0.224</td>\n      <td>0.000002</td>\n      <td>0.32</td>\n      <td>0.931</td>\n      <td>172.076</td>\n    </tr>\n  </tbody>\n</table>\n</div>"
     },
     "execution_count": 168,
     "metadata": {},
     "output_type": "execute_result"
    }
   ],
   "source": [
    "tracks_df[tracks_df[\"id\"] == \"40f52Y5P5PDfAxu2P3iI3c\"]"
   ],
   "metadata": {
    "collapsed": false,
    "ExecuteTime": {
     "end_time": "2023-12-01T16:45:41.279649274Z",
     "start_time": "2023-12-01T16:45:41.274281422Z"
    }
   }
  },
  {
   "cell_type": "markdown",
   "source": [
    "# Stats for pairs track-user"
   ],
   "metadata": {
    "collapsed": false
   }
  },
  {
   "cell_type": "code",
   "execution_count": 215,
   "outputs": [
    {
     "data": {
      "text/plain": "                      track_id  user_id  time_played  duration_ms  \\\n1       000xYdQfIZ4pDmBGzQalKU      155     187119.0       187119   \n2       000xYdQfIZ4pDmBGzQalKU      187     134152.0       187119   \n3       000xYdQfIZ4pDmBGzQalKU      194     192119.0       187119   \n4       000xYdQfIZ4pDmBGzQalKU      203     188119.0       187119   \n5       000xYdQfIZ4pDmBGzQalKU      220     192119.0       187119   \n...                        ...      ...          ...          ...   \n412784  7zzoxJbgjme3366mOp5UnH      497     231284.0       280800   \n412785  7zzoxJbgjme3366mOp5UnH      509     285800.0       280800   \n412786  7zzoxJbgjme3366mOp5UnH      524     168890.0       280800   \n412787  7zzoxJbgjme3366mOp5UnH      537     263042.0       280800   \n412788  7zzoxJbgjme3366mOp5UnH      583     233998.0       280800   \n\n        percentage_played  was_liked  was_skipped  \n1              100.000000      False        False  \n2               71.693414      False         True  \n3              100.000000      False        False  \n4              100.000000       True        False  \n5              100.000000      False        False  \n...                   ...        ...          ...  \n412784          82.366097      False         True  \n412785         100.000000      False        False  \n412786          60.146011       True         True  \n412787          93.675926      False         True  \n412788          83.332621      False         True  \n\n[306539 rows x 7 columns]",
      "text/html": "<div>\n<style scoped>\n    .dataframe tbody tr th:only-of-type {\n        vertical-align: middle;\n    }\n\n    .dataframe tbody tr th {\n        vertical-align: top;\n    }\n\n    .dataframe thead th {\n        text-align: right;\n    }\n</style>\n<table border=\"1\" class=\"dataframe\">\n  <thead>\n    <tr style=\"text-align: right;\">\n      <th></th>\n      <th>track_id</th>\n      <th>user_id</th>\n      <th>time_played</th>\n      <th>duration_ms</th>\n      <th>percentage_played</th>\n      <th>was_liked</th>\n      <th>was_skipped</th>\n    </tr>\n  </thead>\n  <tbody>\n    <tr>\n      <th>1</th>\n      <td>000xYdQfIZ4pDmBGzQalKU</td>\n      <td>155</td>\n      <td>187119.0</td>\n      <td>187119</td>\n      <td>100.000000</td>\n      <td>False</td>\n      <td>False</td>\n    </tr>\n    <tr>\n      <th>2</th>\n      <td>000xYdQfIZ4pDmBGzQalKU</td>\n      <td>187</td>\n      <td>134152.0</td>\n      <td>187119</td>\n      <td>71.693414</td>\n      <td>False</td>\n      <td>True</td>\n    </tr>\n    <tr>\n      <th>3</th>\n      <td>000xYdQfIZ4pDmBGzQalKU</td>\n      <td>194</td>\n      <td>192119.0</td>\n      <td>187119</td>\n      <td>100.000000</td>\n      <td>False</td>\n      <td>False</td>\n    </tr>\n    <tr>\n      <th>4</th>\n      <td>000xYdQfIZ4pDmBGzQalKU</td>\n      <td>203</td>\n      <td>188119.0</td>\n      <td>187119</td>\n      <td>100.000000</td>\n      <td>True</td>\n      <td>False</td>\n    </tr>\n    <tr>\n      <th>5</th>\n      <td>000xYdQfIZ4pDmBGzQalKU</td>\n      <td>220</td>\n      <td>192119.0</td>\n      <td>187119</td>\n      <td>100.000000</td>\n      <td>False</td>\n      <td>False</td>\n    </tr>\n    <tr>\n      <th>...</th>\n      <td>...</td>\n      <td>...</td>\n      <td>...</td>\n      <td>...</td>\n      <td>...</td>\n      <td>...</td>\n      <td>...</td>\n    </tr>\n    <tr>\n      <th>412784</th>\n      <td>7zzoxJbgjme3366mOp5UnH</td>\n      <td>497</td>\n      <td>231284.0</td>\n      <td>280800</td>\n      <td>82.366097</td>\n      <td>False</td>\n      <td>True</td>\n    </tr>\n    <tr>\n      <th>412785</th>\n      <td>7zzoxJbgjme3366mOp5UnH</td>\n      <td>509</td>\n      <td>285800.0</td>\n      <td>280800</td>\n      <td>100.000000</td>\n      <td>False</td>\n      <td>False</td>\n    </tr>\n    <tr>\n      <th>412786</th>\n      <td>7zzoxJbgjme3366mOp5UnH</td>\n      <td>524</td>\n      <td>168890.0</td>\n      <td>280800</td>\n      <td>60.146011</td>\n      <td>True</td>\n      <td>True</td>\n    </tr>\n    <tr>\n      <th>412787</th>\n      <td>7zzoxJbgjme3366mOp5UnH</td>\n      <td>537</td>\n      <td>263042.0</td>\n      <td>280800</td>\n      <td>93.675926</td>\n      <td>False</td>\n      <td>True</td>\n    </tr>\n    <tr>\n      <th>412788</th>\n      <td>7zzoxJbgjme3366mOp5UnH</td>\n      <td>583</td>\n      <td>233998.0</td>\n      <td>280800</td>\n      <td>83.332621</td>\n      <td>False</td>\n      <td>True</td>\n    </tr>\n  </tbody>\n</table>\n<p>306539 rows × 7 columns</p>\n</div>"
     },
     "execution_count": 215,
     "metadata": {},
     "output_type": "execute_result"
    }
   ],
   "source": [
    "# get the track-user stats\n",
    "\n",
    "\n",
    "def agg_events(x):\n",
    "    return tuple(x)\n",
    "\n",
    "\n",
    "tracks_tmp = tracks_df[[\"id\", \"duration_ms\"]]\n",
    "# 13918\n",
    "# session_tmp = session_df[session_df['session_id'].isin((125, 126))].sort_values(by=['session_id', 'timestamp'], ascending=[True, True])\n",
    "session_tmp = session_df.sort_values(\n",
    "    by=[\"session_id\", \"timestamp\"], ascending=[True, True]\n",
    ")\n",
    "\n",
    "session_tmp[\"time_played\"] = (\n",
    "    pd.to_datetime(session_tmp[\"timestamp\"]).diff().dt.total_seconds() * 1000\n",
    ")\n",
    "session_tmp[\"time_played\"] = session_tmp[\"time_played\"].shift(-1)\n",
    "\n",
    "track_minutes_played = (\n",
    "    session_tmp.groupby([\"track_id\", \"user_id\"])[\"time_played\"].agg(\"sum\").reset_index()\n",
    ")\n",
    "grouped_events = (\n",
    "    session_tmp.groupby([\"track_id\", \"user_id\"])[\"event_type\"]\n",
    "    .agg([agg_events])\n",
    "    .reset_index()\n",
    ")\n",
    "\n",
    "track_user_stats = pd.merge(\n",
    "    track_minutes_played, tracks_tmp, how=\"left\", left_on=\"track_id\", right_on=\"id\"\n",
    ")\n",
    "track_user_stats = pd.merge(\n",
    "    track_user_stats, grouped_events, how=\"left\", on=[\"track_id\", \"user_id\"]\n",
    ")\n",
    "\n",
    "track_user_stats[\"percentage_played\"] = (\n",
    "    track_user_stats[\"time_played\"] / track_user_stats[\"duration_ms\"] * 100\n",
    ")\n",
    "track_user_stats[\"percentage_played\"] = track_user_stats.apply(\n",
    "    lambda row: 100.0 if row.percentage_played > 100 else row.percentage_played, axis=1\n",
    ")\n",
    "track_user_stats[\"was_liked\"] = track_user_stats.apply(\n",
    "    lambda row: \"like\" in row.agg_events, axis=1\n",
    ")\n",
    "track_user_stats[\"was_skipped\"] = track_user_stats.apply(\n",
    "    lambda row: \"skip\" in row.agg_events, axis=1\n",
    ")\n",
    "\n",
    "track_user_stats = track_user_stats.drop(columns=[\"id\", \"agg_events\"])\n",
    "track_user_stats = track_user_stats.drop(\n",
    "    track_user_stats[\n",
    "        abs(track_user_stats.time_played) / 10 > track_user_stats.duration_ms\n",
    "    ].index\n",
    ")\n",
    "track_user_stats = track_user_stats.drop(\n",
    "    track_user_stats[track_user_stats.time_played == 0.0].index\n",
    ")\n",
    "track_user_stats"
   ],
   "metadata": {
    "collapsed": false,
    "ExecuteTime": {
     "end_time": "2023-12-01T18:56:23.540086869Z",
     "start_time": "2023-12-01T18:56:15.423749739Z"
    }
   }
  },
  {
   "cell_type": "markdown",
   "source": [
    "# Listing how many times a track was liked"
   ],
   "metadata": {
    "collapsed": false
   }
  },
  {
   "cell_type": "code",
   "execution_count": 235,
   "outputs": [
    {
     "data": {
      "text/plain": "                     track_id  times_liked\n0      000xYdQfIZ4pDmBGzQalKU            4\n1      003FTlCpBTM4eSqYSWPv4H            6\n2      003vvx7Niy0yvhvHt4a68B            5\n3      005Dlt8Xaz3DkaXiRJgdiS            3\n4      005lwxGU1tms6HGELIcUv9            3\n...                       ...          ...\n21891  7zv5oGRQoJX09QM3pkvI1w            3\n21892  7zwn1eykZtZ5LODrf7c0tS            4\n21893  7zycSpvjDcqh6YT1FEl2kY            2\n21894  7zzhknA0A39TH81meuX7WA            4\n21895  7zzoxJbgjme3366mOp5UnH            3\n\n[21896 rows x 2 columns]",
      "text/html": "<div>\n<style scoped>\n    .dataframe tbody tr th:only-of-type {\n        vertical-align: middle;\n    }\n\n    .dataframe tbody tr th {\n        vertical-align: top;\n    }\n\n    .dataframe thead th {\n        text-align: right;\n    }\n</style>\n<table border=\"1\" class=\"dataframe\">\n  <thead>\n    <tr style=\"text-align: right;\">\n      <th></th>\n      <th>track_id</th>\n      <th>times_liked</th>\n    </tr>\n  </thead>\n  <tbody>\n    <tr>\n      <th>0</th>\n      <td>000xYdQfIZ4pDmBGzQalKU</td>\n      <td>4</td>\n    </tr>\n    <tr>\n      <th>1</th>\n      <td>003FTlCpBTM4eSqYSWPv4H</td>\n      <td>6</td>\n    </tr>\n    <tr>\n      <th>2</th>\n      <td>003vvx7Niy0yvhvHt4a68B</td>\n      <td>5</td>\n    </tr>\n    <tr>\n      <th>3</th>\n      <td>005Dlt8Xaz3DkaXiRJgdiS</td>\n      <td>3</td>\n    </tr>\n    <tr>\n      <th>4</th>\n      <td>005lwxGU1tms6HGELIcUv9</td>\n      <td>3</td>\n    </tr>\n    <tr>\n      <th>...</th>\n      <td>...</td>\n      <td>...</td>\n    </tr>\n    <tr>\n      <th>21891</th>\n      <td>7zv5oGRQoJX09QM3pkvI1w</td>\n      <td>3</td>\n    </tr>\n    <tr>\n      <th>21892</th>\n      <td>7zwn1eykZtZ5LODrf7c0tS</td>\n      <td>4</td>\n    </tr>\n    <tr>\n      <th>21893</th>\n      <td>7zycSpvjDcqh6YT1FEl2kY</td>\n      <td>2</td>\n    </tr>\n    <tr>\n      <th>21894</th>\n      <td>7zzhknA0A39TH81meuX7WA</td>\n      <td>4</td>\n    </tr>\n    <tr>\n      <th>21895</th>\n      <td>7zzoxJbgjme3366mOp5UnH</td>\n      <td>3</td>\n    </tr>\n  </tbody>\n</table>\n<p>21896 rows × 2 columns</p>\n</div>"
     },
     "execution_count": 235,
     "metadata": {},
     "output_type": "execute_result"
    }
   ],
   "source": [
    "liked_tracks = track_user_stats\n",
    "liked_tracks[\"times_liked\"] = 0\n",
    "\n",
    "liked_tracks = liked_tracks[liked_tracks[\"was_liked\"] == True]\n",
    "liked_tracks = (\n",
    "    liked_tracks.groupby([\"track_id\"])[\"times_liked\"].agg(\"count\").reset_index()\n",
    ")\n",
    "liked_tracks"
   ],
   "metadata": {
    "collapsed": false,
    "ExecuteTime": {
     "end_time": "2023-12-01T19:39:24.650190018Z",
     "start_time": "2023-12-01T19:39:24.607459376Z"
    }
   }
  },
  {
   "cell_type": "markdown",
   "source": [
    "# Listing how many times a track was skipped"
   ],
   "metadata": {
    "collapsed": false
   }
  },
  {
   "cell_type": "code",
   "execution_count": 238,
   "outputs": [
    {
     "data": {
      "text/plain": "                     track_id  times_skipped\n0      000xYdQfIZ4pDmBGzQalKU              4\n1      003FTlCpBTM4eSqYSWPv4H              4\n2      003vvx7Niy0yvhvHt4a68B             10\n3      005Dlt8Xaz3DkaXiRJgdiS              3\n4      005lwxGU1tms6HGELIcUv9              7\n...                       ...            ...\n22328  7zv5oGRQoJX09QM3pkvI1w              4\n22329  7zwn1eykZtZ5LODrf7c0tS              5\n22330  7zycSpvjDcqh6YT1FEl2kY              6\n22331  7zzhknA0A39TH81meuX7WA              1\n22332  7zzoxJbgjme3366mOp5UnH              7\n\n[22333 rows x 2 columns]",
      "text/html": "<div>\n<style scoped>\n    .dataframe tbody tr th:only-of-type {\n        vertical-align: middle;\n    }\n\n    .dataframe tbody tr th {\n        vertical-align: top;\n    }\n\n    .dataframe thead th {\n        text-align: right;\n    }\n</style>\n<table border=\"1\" class=\"dataframe\">\n  <thead>\n    <tr style=\"text-align: right;\">\n      <th></th>\n      <th>track_id</th>\n      <th>times_skipped</th>\n    </tr>\n  </thead>\n  <tbody>\n    <tr>\n      <th>0</th>\n      <td>000xYdQfIZ4pDmBGzQalKU</td>\n      <td>4</td>\n    </tr>\n    <tr>\n      <th>1</th>\n      <td>003FTlCpBTM4eSqYSWPv4H</td>\n      <td>4</td>\n    </tr>\n    <tr>\n      <th>2</th>\n      <td>003vvx7Niy0yvhvHt4a68B</td>\n      <td>10</td>\n    </tr>\n    <tr>\n      <th>3</th>\n      <td>005Dlt8Xaz3DkaXiRJgdiS</td>\n      <td>3</td>\n    </tr>\n    <tr>\n      <th>4</th>\n      <td>005lwxGU1tms6HGELIcUv9</td>\n      <td>7</td>\n    </tr>\n    <tr>\n      <th>...</th>\n      <td>...</td>\n      <td>...</td>\n    </tr>\n    <tr>\n      <th>22328</th>\n      <td>7zv5oGRQoJX09QM3pkvI1w</td>\n      <td>4</td>\n    </tr>\n    <tr>\n      <th>22329</th>\n      <td>7zwn1eykZtZ5LODrf7c0tS</td>\n      <td>5</td>\n    </tr>\n    <tr>\n      <th>22330</th>\n      <td>7zycSpvjDcqh6YT1FEl2kY</td>\n      <td>6</td>\n    </tr>\n    <tr>\n      <th>22331</th>\n      <td>7zzhknA0A39TH81meuX7WA</td>\n      <td>1</td>\n    </tr>\n    <tr>\n      <th>22332</th>\n      <td>7zzoxJbgjme3366mOp5UnH</td>\n      <td>7</td>\n    </tr>\n  </tbody>\n</table>\n<p>22333 rows × 2 columns</p>\n</div>"
     },
     "execution_count": 238,
     "metadata": {},
     "output_type": "execute_result"
    }
   ],
   "source": [
    "skipped_tracks = track_user_stats\n",
    "skipped_tracks[\"times_skipped\"] = 0\n",
    "\n",
    "skipped_tracks = skipped_tracks[skipped_tracks[\"was_skipped\"] == True]\n",
    "skipped_tracks = (\n",
    "    skipped_tracks.groupby([\"track_id\"])[\"times_skipped\"].agg(\"count\").reset_index()\n",
    ")\n",
    "skipped_tracks"
   ],
   "metadata": {
    "collapsed": false,
    "ExecuteTime": {
     "end_time": "2023-12-01T19:44:59.902206796Z",
     "start_time": "2023-12-01T19:44:59.859367670Z"
    }
   }
  },
  {
   "cell_type": "markdown",
   "source": [
    "# Genres listed by how many times songs from these genres were played"
   ],
   "metadata": {
    "collapsed": false
   }
  },
  {
   "cell_type": "code",
   "execution_count": 228,
   "outputs": [
    {
     "data": {
      "text/plain": "                    genre  genres_count\n525                   pop        137948\n613                  rock        114560\n167             dance pop         81029\n551         post-teen pop         68595\n383                 latin         60227\n..                    ...           ...\n164                 crunk            21\n286            glitchcore            21\n231  experimental hip hop            20\n560   psychedelic hip hop            20\n514                perreo            17\n\n[779 rows x 2 columns]",
      "text/html": "<div>\n<style scoped>\n    .dataframe tbody tr th:only-of-type {\n        vertical-align: middle;\n    }\n\n    .dataframe tbody tr th {\n        vertical-align: top;\n    }\n\n    .dataframe thead th {\n        text-align: right;\n    }\n</style>\n<table border=\"1\" class=\"dataframe\">\n  <thead>\n    <tr style=\"text-align: right;\">\n      <th></th>\n      <th>genre</th>\n      <th>genres_count</th>\n    </tr>\n  </thead>\n  <tbody>\n    <tr>\n      <th>525</th>\n      <td>pop</td>\n      <td>137948</td>\n    </tr>\n    <tr>\n      <th>613</th>\n      <td>rock</td>\n      <td>114560</td>\n    </tr>\n    <tr>\n      <th>167</th>\n      <td>dance pop</td>\n      <td>81029</td>\n    </tr>\n    <tr>\n      <th>551</th>\n      <td>post-teen pop</td>\n      <td>68595</td>\n    </tr>\n    <tr>\n      <th>383</th>\n      <td>latin</td>\n      <td>60227</td>\n    </tr>\n    <tr>\n      <th>...</th>\n      <td>...</td>\n      <td>...</td>\n    </tr>\n    <tr>\n      <th>164</th>\n      <td>crunk</td>\n      <td>21</td>\n    </tr>\n    <tr>\n      <th>286</th>\n      <td>glitchcore</td>\n      <td>21</td>\n    </tr>\n    <tr>\n      <th>231</th>\n      <td>experimental hip hop</td>\n      <td>20</td>\n    </tr>\n    <tr>\n      <th>560</th>\n      <td>psychedelic hip hop</td>\n      <td>20</td>\n    </tr>\n    <tr>\n      <th>514</th>\n      <td>perreo</td>\n      <td>17</td>\n    </tr>\n  </tbody>\n</table>\n<p>779 rows × 2 columns</p>\n</div>"
     },
     "execution_count": 228,
     "metadata": {},
     "output_type": "execute_result"
    }
   ],
   "source": [
    "tracks_genre_df = tracks_df.merge(\n",
    "    artists_df[[\"id\", \"genres\"]], left_on=\"id_artist\", right_on=\"id\", how=\"inner\"\n",
    ")\n",
    "exploded_genres = tracks_genre_df[[\"id_x\", \"genres\"]].explode(\"genres\").reset_index()\n",
    "exploded_genres = exploded_genres.rename(\n",
    "    columns={\"id_x\": \"track_id\", \"genres\": \"genre\"}\n",
    ")\n",
    "session_df_with_genres = session_df.merge(\n",
    "    exploded_genres, left_on=\"track_id\", right_on=\"track_id\", how=\"inner\"\n",
    ")\n",
    "\n",
    "session_df_with_genres[\"genres_count\"] = 0\n",
    "grouped_genres = (\n",
    "    session_df_with_genres.groupby([\"genre\"])[\"genres_count\"].agg(\"count\").reset_index()\n",
    ")\n",
    "grouped_genres = grouped_genres.sort_values(by=\"genres_count\", ascending=False)\n",
    "grouped_genres"
   ],
   "metadata": {
    "collapsed": false,
    "ExecuteTime": {
     "start_time": "2023-12-01T19:27:02.500920354Z"
    }
   }
  }
 ],
 "metadata": {
  "kernelspec": {
   "display_name": "Python 3",
   "language": "python",
   "name": "python3"
  },
  "language_info": {
   "codemirror_mode": {
    "name": "ipython",
    "version": 2
   },
   "file_extension": ".py",
   "mimetype": "text/x-python",
   "name": "python",
   "nbconvert_exporter": "python",
   "pygments_lexer": "ipython2",
   "version": "2.7.6"
  }
 },
 "nbformat": 4,
 "nbformat_minor": 0
}
